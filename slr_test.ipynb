{
 "cells": [
  {
   "cell_type": "code",
   "execution_count": 1,
   "metadata": {},
   "outputs": [
    {
     "name": "stdout",
     "output_type": "stream",
     "text": [
      "WARNING:tensorflow:From C:\\Users\\hp\\AppData\\Roaming\\Python\\Python311\\site-packages\\keras\\src\\losses.py:2976: The name tf.losses.sparse_softmax_cross_entropy is deprecated. Please use tf.compat.v1.losses.sparse_softmax_cross_entropy instead.\n",
      "\n"
     ]
    }
   ],
   "source": [
    "import cv2\n",
    "import numpy as np\n",
    "import os\n",
    "from matplotlib import pyplot as plt\n",
    "import time\n",
    "import mediapipe as mp\n",
    "import pandas as pd\n",
    "from sklearn.model_selection import StratifiedShuffleSplit"
   ]
  },
  {
   "cell_type": "code",
   "execution_count": 2,
   "metadata": {},
   "outputs": [],
   "source": [
    "mp_holistic = mp.solutions.holistic # Holistic model\n",
    "mp_drawing = mp.solutions.drawing_utils # Drawing utilities"
   ]
  },
  {
   "cell_type": "code",
   "execution_count": 3,
   "metadata": {},
   "outputs": [],
   "source": [
    "def mediapipe_detection(image, model):\n",
    "    image = cv2.cvtColor(image, cv2.COLOR_BGR2RGB) # COLOR CONVERSION BGR 2 RGB\n",
    "    image.flags.writeable = False                  # Image is no longer writeable\n",
    "    results = model.process(image)                 # Make prediction\n",
    "    image.flags.writeable = True                   # Image is now writeable \n",
    "    image = cv2.cvtColor(image, cv2.COLOR_RGB2BGR) # COLOR COVERSION RGB 2 BGR\n",
    "    return image, results"
   ]
  },
  {
   "cell_type": "code",
   "execution_count": 4,
   "metadata": {},
   "outputs": [],
   "source": [
    "def draw_styled_landmarks(image, results):\n",
    "    # Draw face connections\n",
    "    mp_drawing.draw_landmarks(image, results.face_landmarks, mp_holistic.FACEMESH_TESSELATION, \n",
    "                             mp_drawing.DrawingSpec(color=(80,110,10), thickness=1, circle_radius=1), \n",
    "                             mp_drawing.DrawingSpec(color=(80,256,121), thickness=1, circle_radius=1)\n",
    "                             ) \n",
    "    # Draw pose connections\n",
    "    mp_drawing.draw_landmarks(image, results.pose_landmarks, mp_holistic.POSE_CONNECTIONS,\n",
    "                             mp_drawing.DrawingSpec(color=(80,22,10), thickness=2, circle_radius=4), \n",
    "                             mp_drawing.DrawingSpec(color=(80,44,121), thickness=2, circle_radius=2)\n",
    "                             ) \n",
    "    # Draw left hand connections\n",
    "    mp_drawing.draw_landmarks(image, results.left_hand_landmarks, mp_holistic.HAND_CONNECTIONS, \n",
    "                             mp_drawing.DrawingSpec(color=(121,22,76), thickness=2, circle_radius=4), \n",
    "                             mp_drawing.DrawingSpec(color=(121,44,250), thickness=2, circle_radius=2)\n",
    "                             ) \n",
    "    # Draw right hand connections  \n",
    "    mp_drawing.draw_landmarks(image, results.right_hand_landmarks, mp_holistic.HAND_CONNECTIONS, \n",
    "                             mp_drawing.DrawingSpec(color=(245,117,66), thickness=2, circle_radius=4), \n",
    "                             mp_drawing.DrawingSpec(color=(245,66,230), thickness=2, circle_radius=2)\n",
    "                             ) "
   ]
  },
  {
   "cell_type": "code",
   "execution_count": 5,
   "metadata": {},
   "outputs": [],
   "source": [
    "def extract_keypoints(results):\n",
    "    pose = np.array([[res.x, res.y, res.z, res.visibility] for res in results.pose_landmarks.landmark]).flatten() if results.pose_landmarks else np.zeros(33*4)\n",
    "    face = np.array([[res.x, res.y, res.z] for res in results.face_landmarks.landmark]).flatten() if results.face_landmarks else np.zeros(468*3)\n",
    "    lh = np.array([[res.x, res.y, res.z] for res in results.left_hand_landmarks.landmark]).flatten() if results.left_hand_landmarks else np.zeros(21*3)\n",
    "    rh = np.array([[res.x, res.y, res.z] for res in results.right_hand_landmarks.landmark]).flatten() if results.right_hand_landmarks else np.zeros(21*3)\n",
    "    return np.concatenate([pose, face, lh, rh])"
   ]
  },
  {
   "cell_type": "markdown",
   "metadata": {},
   "source": [
    "# Extraction"
   ]
  },
  {
   "cell_type": "code",
   "execution_count": 6,
   "metadata": {},
   "outputs": [],
   "source": [
    "# Path for exported data, numpy arrays\n",
    "DATA_PATH = os.path.join('MP_DATA') \n",
    "\n",
    "# Actions that we try to detect\n",
    "#actions = np.array(['hello','iloveyou','thanks','google','house','jogging','book','internet'])\n",
    "actions = np.array(['drink','house','drive','hello','iloveyou','thanks','google','internet','jogging','book'])\n",
    "#actions = np.array(['hello','iloveyou','thanks','google','internet','pizza','jogging','book'])\n",
    "#actions = np.array(['hello','book','computer','drink','iloveyou','thanks','before', 'chair', 'go']) ,'before', 'chair', 'go','clothes',''google','internet','pizza','televison','twitter',\n",
    " #'clothes','who', 'candy', 'cousin'\n",
    "# Thirty videos worth of data\n",
    "no_sequences = 40\n",
    "\n",
    "# Videos are going to be 30 frames in length\n",
    "sequence_length = 30\n",
    "\n"
   ]
  },
  {
   "cell_type": "code",
   "execution_count": null,
   "metadata": {},
   "outputs": [],
   "source": [
    "for action in actions: \n",
    "    for sequence in range(no_sequences):\n",
    "        try: \n",
    "            os.makedirs(os.path.join(DATA_PATH, action, str(sequence)))\n",
    "        except:\n",
    "            pass"
   ]
  },
  {
   "cell_type": "markdown",
   "metadata": {},
   "source": [
    "# collect"
   ]
  },
  {
   "cell_type": "code",
   "execution_count": null,
   "metadata": {},
   "outputs": [],
   "source": [
    "cap = cv2.VideoCapture(0)\n",
    "# Set mediapipe model \n",
    "with mp_holistic.Holistic(min_detection_confidence=0.5, min_tracking_confidence=0.5) as holistic:\n",
    "    \n",
    "    # NEW LOOP\n",
    "    # Loop through actions\n",
    "    for action in actions:\n",
    "        # Loop through sequences aka videos\n",
    "        for sequence in range(no_sequences):\n",
    "            # Loop through video length aka sequence length\n",
    "            for frame_num in range(sequence_length):\n",
    "\n",
    "                # Read feed\n",
    "                ret, frame = cap.read()\n",
    "\n",
    "                # Make detections\n",
    "                image, results = mediapipe_detection(frame, holistic)\n",
    "#                 print(results)\n",
    "\n",
    "                # Draw landmarks\n",
    "                draw_styled_landmarks(image, results)\n",
    "                \n",
    "                # NEW Apply wait logic\n",
    "                if frame_num == 0: \n",
    "                    cv2.putText(image, 'STARTING COLLECTION', (120,200), \n",
    "                               cv2.FONT_HERSHEY_SIMPLEX, 1, (0,255, 0), 4, cv2.LINE_AA)\n",
    "                    cv2.putText(image, 'Collecting frames for {} Video Number {}'.format(action, sequence), (90,90), \n",
    "                               cv2.FONT_HERSHEY_SIMPLEX, 0.5, (0, 0, 255), 1, cv2.LINE_AA)\n",
    "                    # Show to screen\n",
    "                    cv2.imshow('OpenCV Feed', image)\n",
    "                    cv2.waitKey(2000)\n",
    "                else: \n",
    "                    cv2.putText(image, 'Collecting frames for {} Video Number {}'.format(action, sequence), (90,90), \n",
    "                               cv2.FONT_HERSHEY_SIMPLEX, 0.5, (0, 0, 255), 1, cv2.LINE_AA)\n",
    "                    # Show to screen\n",
    "                    cv2.imshow('OpenCV Feed', image)\n",
    "                \n",
    "                # NEW Export keypoints\n",
    "                keypoints = extract_keypoints(results)\n",
    "                npy_path = os.path.join(DATA_PATH, action, str(sequence), str(frame_num))\n",
    "                np.save(npy_path, keypoints)\n",
    "\n",
    "                # Break gracefully\n",
    "                if cv2.waitKey(10) & 0xFF == ord('q'):\n",
    "                    break\n",
    "                    \n",
    "    cap.release()\n",
    "    cv2.destroyAllWindows()"
   ]
  },
  {
   "cell_type": "code",
   "execution_count": null,
   "metadata": {},
   "outputs": [],
   "source": [
    "cap.release()\n",
    "cv2.destroyAllWindows()"
   ]
  },
  {
   "cell_type": "code",
   "execution_count": 7,
   "metadata": {},
   "outputs": [],
   "source": [
    "from sklearn.model_selection import train_test_split\n",
    "from tensorflow.keras.utils import to_categorical"
   ]
  },
  {
   "cell_type": "code",
   "execution_count": 8,
   "metadata": {},
   "outputs": [],
   "source": [
    "label_map = {label:num for num, label in enumerate(actions)}"
   ]
  },
  {
   "cell_type": "code",
   "execution_count": 9,
   "metadata": {},
   "outputs": [
    {
     "data": {
      "text/plain": [
       "{'drink': 0,\n",
       " 'house': 1,\n",
       " 'drive': 2,\n",
       " 'hello': 3,\n",
       " 'iloveyou': 4,\n",
       " 'thanks': 5,\n",
       " 'google': 6,\n",
       " 'internet': 7,\n",
       " 'jogging': 8,\n",
       " 'book': 9}"
      ]
     },
     "execution_count": 9,
     "metadata": {},
     "output_type": "execute_result"
    }
   ],
   "source": [
    "label_map"
   ]
  },
  {
   "cell_type": "code",
   "execution_count": 10,
   "metadata": {},
   "outputs": [],
   "source": [
    "sequences, labels = [], []\n",
    "for action in actions:\n",
    "    for sequence in range(no_sequences):\n",
    "        window = []\n",
    "        for frame_num in range(sequence_length):\n",
    "            res = np.load(os.path.join(DATA_PATH, action, str(sequence), \"{}.npy\".format(frame_num)))\n",
    "            window.append(res)\n",
    "        sequences.append(window)\n",
    "        labels.append(label_map[action])"
   ]
  },
  {
   "cell_type": "code",
   "execution_count": 11,
   "metadata": {},
   "outputs": [
    {
     "data": {
      "text/plain": [
       "(400, 30, 1662)"
      ]
     },
     "execution_count": 11,
     "metadata": {},
     "output_type": "execute_result"
    }
   ],
   "source": [
    "np.array(sequences).shape"
   ]
  },
  {
   "cell_type": "code",
   "execution_count": 12,
   "metadata": {},
   "outputs": [
    {
     "data": {
      "text/plain": [
       "(400,)"
      ]
     },
     "execution_count": 12,
     "metadata": {},
     "output_type": "execute_result"
    }
   ],
   "source": [
    "np.array(labels).shape"
   ]
  },
  {
   "cell_type": "code",
   "execution_count": 13,
   "metadata": {},
   "outputs": [],
   "source": [
    "X = np.array(sequences)"
   ]
  },
  {
   "cell_type": "code",
   "execution_count": 14,
   "metadata": {},
   "outputs": [],
   "source": [
    "y = to_categorical(labels).astype(int)"
   ]
  },
  {
   "cell_type": "code",
   "execution_count": null,
   "metadata": {},
   "outputs": [],
   "source": [
    "X[1]"
   ]
  },
  {
   "cell_type": "code",
   "execution_count": null,
   "metadata": {},
   "outputs": [],
   "source": [
    "y[1]"
   ]
  },
  {
   "cell_type": "code",
   "execution_count": 15,
   "metadata": {},
   "outputs": [],
   "source": [
    "# Perform the stratified split\n",
    "X_train, X_test, y_train, y_test = train_test_split(X, y, test_size=0.2, random_state=42)\n"
   ]
  },
  {
   "cell_type": "code",
   "execution_count": 16,
   "metadata": {},
   "outputs": [
    {
     "data": {
      "text/plain": [
       "(320, 30, 1662)"
      ]
     },
     "execution_count": 16,
     "metadata": {},
     "output_type": "execute_result"
    }
   ],
   "source": [
    "X_train.shape"
   ]
  },
  {
   "cell_type": "code",
   "execution_count": 17,
   "metadata": {},
   "outputs": [
    {
     "data": {
      "text/plain": [
       "(80, 10)"
      ]
     },
     "execution_count": 17,
     "metadata": {},
     "output_type": "execute_result"
    }
   ],
   "source": [
    "y_test.shape"
   ]
  },
  {
   "cell_type": "code",
   "execution_count": 18,
   "metadata": {},
   "outputs": [],
   "source": [
    "from tensorflow.keras.models import Sequential\n",
    "from tensorflow.keras.layers import LSTM, Dense,Dropout, BatchNormalization\n",
    "from tensorflow.keras.callbacks import TensorBoard"
   ]
  },
  {
   "cell_type": "code",
   "execution_count": null,
   "metadata": {},
   "outputs": [],
   "source": [
    "\"\"\" log_dir = os.path.join('Logs')\n",
    "tb_callback = TensorBoard(log_dir=log_dir) \"\"\""
   ]
  },
  {
   "cell_type": "code",
   "execution_count": 26,
   "metadata": {},
   "outputs": [],
   "source": [
    "model = Sequential()\n",
    "model.add(LSTM(64, return_sequences=True, activation='relu', input_shape=(30,1662)))\n",
    "model.add(LSTM(128, return_sequences=True, activation='relu'))\n",
    "model.add(LSTM(64, return_sequences=False, activation='relu'))\n",
    "model.add(Dense(64, activation='relu'))\n",
    "model.add(Dense(32, activation='relu'))\n",
    "model.add(Dense(actions.shape[0], activation='softmax'))"
   ]
  },
  {
   "cell_type": "code",
   "execution_count": null,
   "metadata": {},
   "outputs": [],
   "source": [
    "model = Sequential()\n",
    "model.add(LSTM(128, return_sequences=True, activation='relu', input_shape=(30, 1662)))\n",
    "model.add(Dropout(0.2))\n",
    "model.add(LSTM(256, return_sequences=True, activation='relu'))\n",
    "model.add(Dropout(0.2))\n",
    "model.add(LSTM(128, return_sequences=False, activation='relu'))\n",
    "model.add(Dropout(0.2))\n",
    "model.add(Dense(128, activation='relu'))\n",
    "model.add(Dense(64, activation='relu'))\n",
    "model.add(Dense(actions.shape[0], activation='softmax'))  "
   ]
  },
  {
   "cell_type": "code",
   "execution_count": 25,
   "metadata": {},
   "outputs": [],
   "source": [
    "del model"
   ]
  },
  {
   "cell_type": "code",
   "execution_count": 27,
   "metadata": {},
   "outputs": [
    {
     "name": "stdout",
     "output_type": "stream",
     "text": [
      "Model: \"sequential_1\"\n",
      "_________________________________________________________________\n",
      " Layer (type)                Output Shape              Param #   \n",
      "=================================================================\n",
      " lstm_3 (LSTM)               (None, 30, 64)            442112    \n",
      "                                                                 \n",
      " lstm_4 (LSTM)               (None, 30, 128)           98816     \n",
      "                                                                 \n",
      " lstm_5 (LSTM)               (None, 64)                49408     \n",
      "                                                                 \n",
      " dense_3 (Dense)             (None, 64)                4160      \n",
      "                                                                 \n",
      " dense_4 (Dense)             (None, 32)                2080      \n",
      "                                                                 \n",
      " dense_5 (Dense)             (None, 10)                330       \n",
      "                                                                 \n",
      "=================================================================\n",
      "Total params: 596906 (2.28 MB)\n",
      "Trainable params: 596906 (2.28 MB)\n",
      "Non-trainable params: 0 (0.00 Byte)\n",
      "_________________________________________________________________\n"
     ]
    }
   ],
   "source": [
    "model.summary()"
   ]
  },
  {
   "cell_type": "code",
   "execution_count": 28,
   "metadata": {},
   "outputs": [],
   "source": [
    "res = [.7, 0.2, 0.2]"
   ]
  },
  {
   "cell_type": "code",
   "execution_count": 29,
   "metadata": {},
   "outputs": [
    {
     "data": {
      "text/plain": [
       "'drink'"
      ]
     },
     "execution_count": 29,
     "metadata": {},
     "output_type": "execute_result"
    }
   ],
   "source": [
    "actions[np.argmax(res)]"
   ]
  },
  {
   "cell_type": "code",
   "execution_count": 30,
   "metadata": {},
   "outputs": [],
   "source": [
    "model.compile(optimizer='Adam', loss='categorical_crossentropy', metrics=['categorical_accuracy'])"
   ]
  },
  {
   "cell_type": "code",
   "execution_count": null,
   "metadata": {},
   "outputs": [],
   "source": [
    "y_test"
   ]
  },
  {
   "cell_type": "code",
   "execution_count": 31,
   "metadata": {},
   "outputs": [
    {
     "name": "stdout",
     "output_type": "stream",
     "text": [
      "Epoch 1/300\n",
      "8/8 [==============================] - 5s 142ms/step - loss: 2.6245 - categorical_accuracy: 0.1172 - val_loss: 2.2837 - val_categorical_accuracy: 0.2031\n",
      "Epoch 2/300\n",
      "8/8 [==============================] - 1s 129ms/step - loss: 2.2892 - categorical_accuracy: 0.1797 - val_loss: 2.2351 - val_categorical_accuracy: 0.2812\n",
      "Epoch 3/300\n",
      "8/8 [==============================] - 1s 94ms/step - loss: 2.2018 - categorical_accuracy: 0.2227 - val_loss: 1.9080 - val_categorical_accuracy: 0.3906\n",
      "Epoch 4/300\n",
      "8/8 [==============================] - 0s 63ms/step - loss: 2.1296 - categorical_accuracy: 0.3008 - val_loss: 2.0694 - val_categorical_accuracy: 0.2656\n",
      "Epoch 5/300\n",
      "8/8 [==============================] - 1s 64ms/step - loss: 1.9518 - categorical_accuracy: 0.3516 - val_loss: 2.0004 - val_categorical_accuracy: 0.2812\n",
      "Epoch 6/300\n",
      "8/8 [==============================] - 1s 101ms/step - loss: 1.7354 - categorical_accuracy: 0.3125 - val_loss: 1.6739 - val_categorical_accuracy: 0.3281\n",
      "Epoch 7/300\n",
      "8/8 [==============================] - 1s 86ms/step - loss: 2.5375 - categorical_accuracy: 0.2500 - val_loss: 1.9762 - val_categorical_accuracy: 0.1250\n",
      "Epoch 8/300\n",
      "8/8 [==============================] - 1s 80ms/step - loss: 2.0332 - categorical_accuracy: 0.3555 - val_loss: 1.9756 - val_categorical_accuracy: 0.2500\n",
      "Epoch 9/300\n",
      "8/8 [==============================] - 1s 66ms/step - loss: 1.8250 - categorical_accuracy: 0.3633 - val_loss: 1.9311 - val_categorical_accuracy: 0.2500\n",
      "Epoch 10/300\n",
      "8/8 [==============================] - 0s 63ms/step - loss: 1.8545 - categorical_accuracy: 0.3594 - val_loss: 1.9043 - val_categorical_accuracy: 0.3906\n",
      "Epoch 11/300\n",
      "8/8 [==============================] - 0s 59ms/step - loss: 2.3529 - categorical_accuracy: 0.3555 - val_loss: 1.9379 - val_categorical_accuracy: 0.3281\n",
      "Epoch 12/300\n",
      "8/8 [==============================] - 1s 98ms/step - loss: 1.9575 - categorical_accuracy: 0.3555 - val_loss: 1.6716 - val_categorical_accuracy: 0.3438\n",
      "Epoch 13/300\n",
      "8/8 [==============================] - 1s 120ms/step - loss: 1.5763 - categorical_accuracy: 0.3516 - val_loss: 1.6156 - val_categorical_accuracy: 0.3906\n",
      "Epoch 14/300\n",
      "8/8 [==============================] - 1s 127ms/step - loss: 1.4502 - categorical_accuracy: 0.4375 - val_loss: 1.5514 - val_categorical_accuracy: 0.3906\n",
      "Epoch 15/300\n",
      "8/8 [==============================] - 1s 136ms/step - loss: 1.4203 - categorical_accuracy: 0.4297 - val_loss: 1.5023 - val_categorical_accuracy: 0.4219\n",
      "Epoch 16/300\n",
      "8/8 [==============================] - 1s 103ms/step - loss: 1.3691 - categorical_accuracy: 0.4648 - val_loss: 1.3800 - val_categorical_accuracy: 0.3906\n",
      "Epoch 17/300\n",
      "8/8 [==============================] - 1s 101ms/step - loss: 1.2828 - categorical_accuracy: 0.4297 - val_loss: 1.5053 - val_categorical_accuracy: 0.3438\n",
      "Epoch 18/300\n",
      "8/8 [==============================] - 1s 156ms/step - loss: 1.1991 - categorical_accuracy: 0.4922 - val_loss: 1.1584 - val_categorical_accuracy: 0.5156\n",
      "Epoch 19/300\n",
      "8/8 [==============================] - 1s 119ms/step - loss: 1.0547 - categorical_accuracy: 0.5469 - val_loss: 1.0199 - val_categorical_accuracy: 0.5781\n",
      "Epoch 20/300\n",
      "8/8 [==============================] - 0s 62ms/step - loss: 0.9809 - categorical_accuracy: 0.5898 - val_loss: 1.1124 - val_categorical_accuracy: 0.4062\n",
      "Epoch 21/300\n",
      "8/8 [==============================] - 1s 69ms/step - loss: 0.9717 - categorical_accuracy: 0.5703 - val_loss: 1.0541 - val_categorical_accuracy: 0.4844\n",
      "Epoch 22/300\n",
      "8/8 [==============================] - 1s 124ms/step - loss: 0.9107 - categorical_accuracy: 0.5781 - val_loss: 0.8180 - val_categorical_accuracy: 0.7188\n",
      "Epoch 23/300\n",
      "8/8 [==============================] - 1s 111ms/step - loss: 0.7667 - categorical_accuracy: 0.6680 - val_loss: 0.7187 - val_categorical_accuracy: 0.6406\n",
      "Epoch 24/300\n",
      "8/8 [==============================] - 0s 59ms/step - loss: 0.9242 - categorical_accuracy: 0.5781 - val_loss: 1.1572 - val_categorical_accuracy: 0.4531\n",
      "Epoch 25/300\n",
      "8/8 [==============================] - 0s 63ms/step - loss: 1.3070 - categorical_accuracy: 0.5000 - val_loss: 1.3350 - val_categorical_accuracy: 0.3438\n",
      "Epoch 26/300\n",
      "8/8 [==============================] - 0s 58ms/step - loss: 1.0884 - categorical_accuracy: 0.5000 - val_loss: 1.0380 - val_categorical_accuracy: 0.5000\n",
      "Epoch 27/300\n",
      "8/8 [==============================] - 0s 60ms/step - loss: 0.9382 - categorical_accuracy: 0.5703 - val_loss: 0.9140 - val_categorical_accuracy: 0.5469\n",
      "Epoch 28/300\n",
      "8/8 [==============================] - 0s 63ms/step - loss: 0.9013 - categorical_accuracy: 0.6211 - val_loss: 0.9359 - val_categorical_accuracy: 0.4844\n",
      "Epoch 29/300\n",
      "8/8 [==============================] - 0s 61ms/step - loss: 0.7887 - categorical_accuracy: 0.6406 - val_loss: 0.7558 - val_categorical_accuracy: 0.5781\n",
      "Epoch 30/300\n",
      "8/8 [==============================] - 0s 61ms/step - loss: 1.3600 - categorical_accuracy: 0.4297 - val_loss: 1.4294 - val_categorical_accuracy: 0.4062\n",
      "Epoch 31/300\n",
      "8/8 [==============================] - 0s 60ms/step - loss: 1.3488 - categorical_accuracy: 0.4727 - val_loss: 1.3609 - val_categorical_accuracy: 0.5000\n",
      "Epoch 32/300\n",
      "8/8 [==============================] - 1s 71ms/step - loss: 1.1878 - categorical_accuracy: 0.5273 - val_loss: 1.1749 - val_categorical_accuracy: 0.4531\n",
      "Epoch 33/300\n",
      "8/8 [==============================] - 0s 61ms/step - loss: 1.0375 - categorical_accuracy: 0.5547 - val_loss: 1.0105 - val_categorical_accuracy: 0.5312\n",
      "Epoch 34/300\n",
      "8/8 [==============================] - 0s 55ms/step - loss: 0.9767 - categorical_accuracy: 0.6016 - val_loss: 1.1294 - val_categorical_accuracy: 0.6406\n",
      "Epoch 35/300\n",
      "8/8 [==============================] - 0s 59ms/step - loss: 1.1678 - categorical_accuracy: 0.4609 - val_loss: 1.5609 - val_categorical_accuracy: 0.3125\n",
      "Epoch 36/300\n",
      "8/8 [==============================] - 0s 58ms/step - loss: 1.3585 - categorical_accuracy: 0.4180 - val_loss: 1.3807 - val_categorical_accuracy: 0.3281\n",
      "Epoch 37/300\n",
      "8/8 [==============================] - 0s 57ms/step - loss: 1.2395 - categorical_accuracy: 0.4883 - val_loss: 1.2446 - val_categorical_accuracy: 0.4219\n",
      "Epoch 38/300\n",
      "8/8 [==============================] - 0s 62ms/step - loss: 1.1431 - categorical_accuracy: 0.5117 - val_loss: 1.0470 - val_categorical_accuracy: 0.5156\n",
      "Epoch 39/300\n",
      "8/8 [==============================] - 0s 56ms/step - loss: 1.0289 - categorical_accuracy: 0.5742 - val_loss: 0.9795 - val_categorical_accuracy: 0.4688\n",
      "Epoch 40/300\n",
      "8/8 [==============================] - 1s 110ms/step - loss: 0.8221 - categorical_accuracy: 0.6875 - val_loss: 0.6339 - val_categorical_accuracy: 0.7656\n",
      "Epoch 41/300\n",
      "8/8 [==============================] - 0s 57ms/step - loss: 1.3705 - categorical_accuracy: 0.4922 - val_loss: 1.4506 - val_categorical_accuracy: 0.4062\n",
      "Epoch 42/300\n",
      "8/8 [==============================] - 1s 66ms/step - loss: 1.1447 - categorical_accuracy: 0.5273 - val_loss: 1.3798 - val_categorical_accuracy: 0.4062\n",
      "Epoch 43/300\n",
      "8/8 [==============================] - 1s 88ms/step - loss: 0.9942 - categorical_accuracy: 0.5820 - val_loss: 1.0498 - val_categorical_accuracy: 0.5000\n",
      "Epoch 44/300\n",
      "8/8 [==============================] - 1s 81ms/step - loss: 0.9556 - categorical_accuracy: 0.6172 - val_loss: 1.4073 - val_categorical_accuracy: 0.4688\n",
      "Epoch 45/300\n",
      "8/8 [==============================] - 0s 61ms/step - loss: 1.4247 - categorical_accuracy: 0.4844 - val_loss: 1.2055 - val_categorical_accuracy: 0.6250\n",
      "Epoch 46/300\n",
      "8/8 [==============================] - 0s 56ms/step - loss: 1.5280 - categorical_accuracy: 0.3750 - val_loss: 1.6105 - val_categorical_accuracy: 0.3281\n",
      "Epoch 47/300\n",
      "8/8 [==============================] - 1s 66ms/step - loss: 1.3709 - categorical_accuracy: 0.4062 - val_loss: 1.2646 - val_categorical_accuracy: 0.4062\n",
      "Epoch 48/300\n",
      "8/8 [==============================] - 0s 55ms/step - loss: 1.2643 - categorical_accuracy: 0.4688 - val_loss: 1.2641 - val_categorical_accuracy: 0.4688\n",
      "Epoch 49/300\n",
      "8/8 [==============================] - 0s 62ms/step - loss: 2.9348 - categorical_accuracy: 0.4844 - val_loss: 2.8742 - val_categorical_accuracy: 0.2812\n",
      "Epoch 50/300\n",
      "8/8 [==============================] - 0s 60ms/step - loss: 1.8183 - categorical_accuracy: 0.3867 - val_loss: 1.6916 - val_categorical_accuracy: 0.5312\n",
      "Epoch 51/300\n",
      "8/8 [==============================] - 0s 59ms/step - loss: 1.5285 - categorical_accuracy: 0.4570 - val_loss: 1.4250 - val_categorical_accuracy: 0.5625\n",
      "Epoch 52/300\n",
      "8/8 [==============================] - 1s 64ms/step - loss: 1.3180 - categorical_accuracy: 0.5234 - val_loss: 1.3207 - val_categorical_accuracy: 0.4688\n",
      "Epoch 53/300\n",
      "8/8 [==============================] - 0s 59ms/step - loss: 1.2467 - categorical_accuracy: 0.4805 - val_loss: 1.1867 - val_categorical_accuracy: 0.5781\n",
      "Epoch 54/300\n",
      "8/8 [==============================] - 1s 68ms/step - loss: 1.1557 - categorical_accuracy: 0.5195 - val_loss: 1.1426 - val_categorical_accuracy: 0.5625\n",
      "Epoch 55/300\n",
      "8/8 [==============================] - 0s 60ms/step - loss: 1.0190 - categorical_accuracy: 0.5742 - val_loss: 0.9435 - val_categorical_accuracy: 0.5000\n",
      "Epoch 56/300\n",
      "8/8 [==============================] - 1s 72ms/step - loss: 0.8615 - categorical_accuracy: 0.6250 - val_loss: 0.8939 - val_categorical_accuracy: 0.6406\n",
      "Epoch 57/300\n",
      "8/8 [==============================] - 1s 65ms/step - loss: 0.8629 - categorical_accuracy: 0.6289 - val_loss: 0.8375 - val_categorical_accuracy: 0.6562\n",
      "Epoch 58/300\n",
      "8/8 [==============================] - 0s 58ms/step - loss: 0.8842 - categorical_accuracy: 0.6016 - val_loss: 1.2624 - val_categorical_accuracy: 0.4375\n",
      "Epoch 59/300\n",
      "8/8 [==============================] - 0s 63ms/step - loss: 1.0292 - categorical_accuracy: 0.5273 - val_loss: 0.8720 - val_categorical_accuracy: 0.7031\n",
      "Epoch 60/300\n",
      "8/8 [==============================] - 0s 60ms/step - loss: 0.9147 - categorical_accuracy: 0.5703 - val_loss: 0.8183 - val_categorical_accuracy: 0.7031\n",
      "Epoch 61/300\n",
      "8/8 [==============================] - 1s 67ms/step - loss: 0.8147 - categorical_accuracy: 0.6328 - val_loss: 0.7453 - val_categorical_accuracy: 0.6562\n",
      "Epoch 62/300\n",
      "8/8 [==============================] - 1s 73ms/step - loss: 0.6906 - categorical_accuracy: 0.7031 - val_loss: 0.6960 - val_categorical_accuracy: 0.6406\n",
      "Epoch 63/300\n",
      "8/8 [==============================] - 0s 58ms/step - loss: 0.6014 - categorical_accuracy: 0.7617 - val_loss: 0.6793 - val_categorical_accuracy: 0.7031\n",
      "Epoch 64/300\n",
      "8/8 [==============================] - 0s 63ms/step - loss: 0.8501 - categorical_accuracy: 0.6445 - val_loss: 0.6855 - val_categorical_accuracy: 0.7031\n",
      "Epoch 65/300\n",
      "8/8 [==============================] - 1s 103ms/step - loss: 0.6870 - categorical_accuracy: 0.6992 - val_loss: 0.5878 - val_categorical_accuracy: 0.7500\n",
      "Epoch 66/300\n",
      "8/8 [==============================] - 1s 133ms/step - loss: 0.6147 - categorical_accuracy: 0.7305 - val_loss: 0.5211 - val_categorical_accuracy: 0.8594\n",
      "Epoch 67/300\n",
      "8/8 [==============================] - 1s 98ms/step - loss: 0.6238 - categorical_accuracy: 0.7500 - val_loss: 0.4969 - val_categorical_accuracy: 0.6875\n",
      "Epoch 68/300\n",
      "8/8 [==============================] - 0s 61ms/step - loss: 0.5950 - categorical_accuracy: 0.7422 - val_loss: 0.7332 - val_categorical_accuracy: 0.6406\n",
      "Epoch 69/300\n",
      "8/8 [==============================] - 0s 58ms/step - loss: 0.7114 - categorical_accuracy: 0.6484 - val_loss: 1.0838 - val_categorical_accuracy: 0.4688\n",
      "Epoch 70/300\n",
      "8/8 [==============================] - 1s 64ms/step - loss: 0.7765 - categorical_accuracy: 0.6328 - val_loss: 1.1535 - val_categorical_accuracy: 0.6719\n",
      "Epoch 71/300\n",
      "8/8 [==============================] - 0s 59ms/step - loss: 0.7546 - categorical_accuracy: 0.6641 - val_loss: 0.7238 - val_categorical_accuracy: 0.6094\n",
      "Epoch 72/300\n",
      "8/8 [==============================] - 0s 64ms/step - loss: 0.6450 - categorical_accuracy: 0.6992 - val_loss: 0.6681 - val_categorical_accuracy: 0.6406\n",
      "Epoch 73/300\n",
      "8/8 [==============================] - 0s 59ms/step - loss: 0.5581 - categorical_accuracy: 0.7344 - val_loss: 0.5847 - val_categorical_accuracy: 0.7656\n",
      "Epoch 74/300\n",
      "8/8 [==============================] - 0s 60ms/step - loss: 0.5552 - categorical_accuracy: 0.7773 - val_loss: 0.5398 - val_categorical_accuracy: 0.7656\n",
      "Epoch 75/300\n",
      "8/8 [==============================] - 1s 102ms/step - loss: 0.5944 - categorical_accuracy: 0.6914 - val_loss: 0.4474 - val_categorical_accuracy: 0.7969\n",
      "Epoch 76/300\n",
      "8/8 [==============================] - 1s 115ms/step - loss: 0.4068 - categorical_accuracy: 0.8164 - val_loss: 0.4464 - val_categorical_accuracy: 0.8594\n",
      "Epoch 77/300\n",
      "8/8 [==============================] - 1s 127ms/step - loss: 0.4136 - categorical_accuracy: 0.8359 - val_loss: 0.3361 - val_categorical_accuracy: 0.9219\n",
      "Epoch 78/300\n",
      "8/8 [==============================] - 0s 57ms/step - loss: 0.7483 - categorical_accuracy: 0.7539 - val_loss: 0.7594 - val_categorical_accuracy: 0.7031\n",
      "Epoch 79/300\n",
      "8/8 [==============================] - 1s 80ms/step - loss: 0.7954 - categorical_accuracy: 0.6484 - val_loss: 0.9999 - val_categorical_accuracy: 0.5156\n",
      "Epoch 80/300\n",
      "8/8 [==============================] - 1s 63ms/step - loss: 0.7711 - categorical_accuracy: 0.6133 - val_loss: 0.7059 - val_categorical_accuracy: 0.6719\n",
      "Epoch 81/300\n",
      "8/8 [==============================] - 0s 60ms/step - loss: 0.7677 - categorical_accuracy: 0.6484 - val_loss: 0.6927 - val_categorical_accuracy: 0.6562\n",
      "Epoch 82/300\n",
      "8/8 [==============================] - 1s 68ms/step - loss: 0.7317 - categorical_accuracy: 0.6797 - val_loss: 0.6825 - val_categorical_accuracy: 0.6719\n",
      "Epoch 83/300\n",
      "8/8 [==============================] - 1s 69ms/step - loss: 0.6686 - categorical_accuracy: 0.6953 - val_loss: 0.6371 - val_categorical_accuracy: 0.6562\n",
      "Epoch 84/300\n",
      "8/8 [==============================] - 1s 73ms/step - loss: 0.5496 - categorical_accuracy: 0.7383 - val_loss: 0.5431 - val_categorical_accuracy: 0.7656\n",
      "Epoch 85/300\n",
      "8/8 [==============================] - 1s 67ms/step - loss: 0.5045 - categorical_accuracy: 0.7773 - val_loss: 0.5471 - val_categorical_accuracy: 0.6719\n",
      "Epoch 86/300\n",
      "8/8 [==============================] - 0s 60ms/step - loss: 0.4145 - categorical_accuracy: 0.8711 - val_loss: 0.3461 - val_categorical_accuracy: 0.9062\n",
      "Epoch 87/300\n",
      "8/8 [==============================] - 1s 71ms/step - loss: 0.4483 - categorical_accuracy: 0.8203 - val_loss: 0.3853 - val_categorical_accuracy: 0.7812\n",
      "Epoch 88/300\n",
      "8/8 [==============================] - 0s 61ms/step - loss: 0.3547 - categorical_accuracy: 0.7930 - val_loss: 0.3741 - val_categorical_accuracy: 0.8125\n",
      "Epoch 89/300\n",
      "8/8 [==============================] - 1s 140ms/step - loss: 0.3228 - categorical_accuracy: 0.8711 - val_loss: 0.2949 - val_categorical_accuracy: 0.9219\n",
      "Epoch 90/300\n",
      "8/8 [==============================] - 0s 64ms/step - loss: 0.4348 - categorical_accuracy: 0.8398 - val_loss: 0.3092 - val_categorical_accuracy: 0.8906\n",
      "Epoch 91/300\n",
      "8/8 [==============================] - 0s 56ms/step - loss: 0.3866 - categorical_accuracy: 0.8789 - val_loss: 0.4202 - val_categorical_accuracy: 0.7969\n",
      "Epoch 92/300\n",
      "8/8 [==============================] - 1s 73ms/step - loss: 0.4489 - categorical_accuracy: 0.8086 - val_loss: 0.5573 - val_categorical_accuracy: 0.8281\n",
      "Epoch 93/300\n",
      "8/8 [==============================] - 1s 67ms/step - loss: 0.6056 - categorical_accuracy: 0.7617 - val_loss: 0.6054 - val_categorical_accuracy: 0.7031\n",
      "Epoch 94/300\n",
      "8/8 [==============================] - 0s 61ms/step - loss: 0.4678 - categorical_accuracy: 0.7695 - val_loss: 0.6521 - val_categorical_accuracy: 0.6562\n",
      "Epoch 95/300\n",
      "8/8 [==============================] - 0s 63ms/step - loss: 0.3663 - categorical_accuracy: 0.8164 - val_loss: 0.4525 - val_categorical_accuracy: 0.7812\n",
      "Epoch 96/300\n",
      "8/8 [==============================] - 1s 110ms/step - loss: 0.2504 - categorical_accuracy: 0.9219 - val_loss: 0.2393 - val_categorical_accuracy: 0.9219\n",
      "Epoch 97/300\n",
      "8/8 [==============================] - 1s 111ms/step - loss: 0.1600 - categorical_accuracy: 0.9688 - val_loss: 0.1479 - val_categorical_accuracy: 0.9844\n",
      "Epoch 98/300\n",
      "8/8 [==============================] - 0s 58ms/step - loss: 0.1604 - categorical_accuracy: 0.9453 - val_loss: 0.2251 - val_categorical_accuracy: 0.9375\n",
      "Epoch 99/300\n",
      "8/8 [==============================] - 1s 65ms/step - loss: 0.2344 - categorical_accuracy: 0.9141 - val_loss: 0.3185 - val_categorical_accuracy: 0.9219\n",
      "Epoch 100/300\n",
      "8/8 [==============================] - 0s 59ms/step - loss: 0.3323 - categorical_accuracy: 0.8711 - val_loss: 0.2261 - val_categorical_accuracy: 0.9688\n",
      "Epoch 101/300\n",
      "8/8 [==============================] - 1s 66ms/step - loss: 0.4107 - categorical_accuracy: 0.8477 - val_loss: 0.4775 - val_categorical_accuracy: 0.8750\n",
      "Epoch 102/300\n",
      "8/8 [==============================] - 1s 66ms/step - loss: 0.2622 - categorical_accuracy: 0.9219 - val_loss: 0.3229 - val_categorical_accuracy: 0.9375\n",
      "Epoch 103/300\n",
      "8/8 [==============================] - 1s 77ms/step - loss: 0.2627 - categorical_accuracy: 0.9062 - val_loss: 0.2344 - val_categorical_accuracy: 0.9688\n",
      "Epoch 104/300\n",
      "8/8 [==============================] - 1s 69ms/step - loss: 0.3691 - categorical_accuracy: 0.8594 - val_loss: 0.4021 - val_categorical_accuracy: 0.7969\n",
      "Epoch 105/300\n",
      "8/8 [==============================] - 0s 62ms/step - loss: 1.1999 - categorical_accuracy: 0.6797 - val_loss: 2.4245 - val_categorical_accuracy: 0.4844\n",
      "Epoch 106/300\n",
      "8/8 [==============================] - 0s 64ms/step - loss: 1.7745 - categorical_accuracy: 0.4844 - val_loss: 1.3991 - val_categorical_accuracy: 0.4844\n",
      "Epoch 107/300\n",
      "8/8 [==============================] - 1s 66ms/step - loss: 1.0783 - categorical_accuracy: 0.5312 - val_loss: 1.2234 - val_categorical_accuracy: 0.5625\n",
      "Epoch 108/300\n",
      "8/8 [==============================] - 1s 83ms/step - loss: 1.0268 - categorical_accuracy: 0.6523 - val_loss: 0.9648 - val_categorical_accuracy: 0.7188\n",
      "Epoch 109/300\n",
      "8/8 [==============================] - 1s 63ms/step - loss: 0.8386 - categorical_accuracy: 0.6133 - val_loss: 0.9039 - val_categorical_accuracy: 0.6406\n",
      "Epoch 110/300\n",
      "8/8 [==============================] - 0s 59ms/step - loss: 0.7594 - categorical_accuracy: 0.7344 - val_loss: 0.7690 - val_categorical_accuracy: 0.7188\n",
      "Epoch 111/300\n",
      "8/8 [==============================] - 0s 63ms/step - loss: 0.6482 - categorical_accuracy: 0.6680 - val_loss: 0.6589 - val_categorical_accuracy: 0.7344\n",
      "Epoch 112/300\n",
      "8/8 [==============================] - 0s 60ms/step - loss: 0.5092 - categorical_accuracy: 0.8594 - val_loss: 0.4999 - val_categorical_accuracy: 0.8750\n",
      "Epoch 113/300\n",
      "8/8 [==============================] - 1s 65ms/step - loss: 0.3710 - categorical_accuracy: 0.9102 - val_loss: 0.4164 - val_categorical_accuracy: 0.9375\n",
      "Epoch 114/300\n",
      "8/8 [==============================] - 0s 59ms/step - loss: 0.2762 - categorical_accuracy: 0.9570 - val_loss: 0.3161 - val_categorical_accuracy: 0.9375\n",
      "Epoch 115/300\n",
      "8/8 [==============================] - 0s 61ms/step - loss: 0.2222 - categorical_accuracy: 0.9570 - val_loss: 0.3039 - val_categorical_accuracy: 0.9531\n",
      "Epoch 116/300\n",
      "8/8 [==============================] - 1s 64ms/step - loss: 0.2392 - categorical_accuracy: 0.9219 - val_loss: 0.2687 - val_categorical_accuracy: 0.9688\n",
      "Epoch 117/300\n",
      "8/8 [==============================] - 0s 59ms/step - loss: 0.2441 - categorical_accuracy: 0.9102 - val_loss: 0.4732 - val_categorical_accuracy: 0.8281\n",
      "Epoch 118/300\n",
      "8/8 [==============================] - 0s 64ms/step - loss: 0.2395 - categorical_accuracy: 0.9219 - val_loss: 0.2629 - val_categorical_accuracy: 0.9375\n",
      "Epoch 119/300\n",
      "8/8 [==============================] - 0s 59ms/step - loss: 0.2828 - categorical_accuracy: 0.8828 - val_loss: 0.6960 - val_categorical_accuracy: 0.7500\n",
      "Epoch 120/300\n",
      "8/8 [==============================] - 0s 59ms/step - loss: 0.2567 - categorical_accuracy: 0.8945 - val_loss: 0.3736 - val_categorical_accuracy: 0.9062\n",
      "Epoch 121/300\n",
      "8/8 [==============================] - 1s 77ms/step - loss: 0.2115 - categorical_accuracy: 0.9453 - val_loss: 0.2094 - val_categorical_accuracy: 0.9688\n",
      "Epoch 122/300\n",
      "8/8 [==============================] - 1s 72ms/step - loss: 0.1732 - categorical_accuracy: 0.9492 - val_loss: 0.5420 - val_categorical_accuracy: 0.8281\n",
      "Epoch 123/300\n",
      "8/8 [==============================] - 1s 97ms/step - loss: 0.3243 - categorical_accuracy: 0.9180 - val_loss: 0.5655 - val_categorical_accuracy: 0.7344\n",
      "Epoch 124/300\n",
      "8/8 [==============================] - 1s 103ms/step - loss: 1.1177 - categorical_accuracy: 0.6445 - val_loss: 0.7964 - val_categorical_accuracy: 0.6719\n",
      "Epoch 125/300\n",
      "8/8 [==============================] - 1s 121ms/step - loss: 0.4760 - categorical_accuracy: 0.8203 - val_loss: 0.6579 - val_categorical_accuracy: 0.8438\n",
      "Epoch 126/300\n",
      "8/8 [==============================] - 1s 127ms/step - loss: 0.4409 - categorical_accuracy: 0.8906 - val_loss: 0.4651 - val_categorical_accuracy: 0.9375\n",
      "Epoch 127/300\n",
      "8/8 [==============================] - 1s 117ms/step - loss: 0.3265 - categorical_accuracy: 0.9180 - val_loss: 0.4093 - val_categorical_accuracy: 0.9375\n",
      "Epoch 128/300\n",
      "8/8 [==============================] - 1s 76ms/step - loss: 0.2356 - categorical_accuracy: 0.9453 - val_loss: 0.4235 - val_categorical_accuracy: 0.8281\n",
      "Epoch 129/300\n",
      "8/8 [==============================] - 1s 69ms/step - loss: 0.1682 - categorical_accuracy: 0.9570 - val_loss: 0.2687 - val_categorical_accuracy: 0.9531\n",
      "Epoch 130/300\n",
      "8/8 [==============================] - 1s 72ms/step - loss: 0.1442 - categorical_accuracy: 0.9844 - val_loss: 0.2663 - val_categorical_accuracy: 0.9531\n",
      "Epoch 131/300\n",
      "8/8 [==============================] - 1s 73ms/step - loss: 0.1056 - categorical_accuracy: 0.9922 - val_loss: 0.2552 - val_categorical_accuracy: 0.9375\n",
      "Epoch 132/300\n",
      "8/8 [==============================] - 1s 66ms/step - loss: 0.0973 - categorical_accuracy: 0.9844 - val_loss: 0.2382 - val_categorical_accuracy: 0.9531\n",
      "Epoch 133/300\n",
      "8/8 [==============================] - 1s 65ms/step - loss: 0.0818 - categorical_accuracy: 0.9844 - val_loss: 0.2383 - val_categorical_accuracy: 0.9531\n",
      "Epoch 134/300\n",
      "8/8 [==============================] - 1s 74ms/step - loss: 0.0548 - categorical_accuracy: 0.9922 - val_loss: 0.2276 - val_categorical_accuracy: 0.9531\n",
      "Epoch 135/300\n",
      "8/8 [==============================] - 1s 76ms/step - loss: 0.0507 - categorical_accuracy: 0.9883 - val_loss: 0.2107 - val_categorical_accuracy: 0.9688\n",
      "Epoch 136/300\n",
      "8/8 [==============================] - 1s 67ms/step - loss: 0.0448 - categorical_accuracy: 0.9961 - val_loss: 0.2206 - val_categorical_accuracy: 0.9688\n",
      "Epoch 137/300\n",
      "8/8 [==============================] - 1s 70ms/step - loss: 0.0284 - categorical_accuracy: 1.0000 - val_loss: 0.2240 - val_categorical_accuracy: 0.9688\n",
      "Epoch 138/300\n",
      "8/8 [==============================] - 1s 67ms/step - loss: 0.0238 - categorical_accuracy: 0.9961 - val_loss: 0.2732 - val_categorical_accuracy: 0.9531\n",
      "Epoch 139/300\n",
      "8/8 [==============================] - 1s 65ms/step - loss: 0.0189 - categorical_accuracy: 0.9961 - val_loss: 0.2578 - val_categorical_accuracy: 0.9531\n",
      "Epoch 140/300\n",
      "8/8 [==============================] - 0s 60ms/step - loss: 0.0360 - categorical_accuracy: 0.9883 - val_loss: 0.2449 - val_categorical_accuracy: 0.9531\n",
      "Epoch 141/300\n",
      "8/8 [==============================] - 1s 71ms/step - loss: 0.0607 - categorical_accuracy: 0.9844 - val_loss: 0.2525 - val_categorical_accuracy: 0.9219\n",
      "Epoch 142/300\n",
      "8/8 [==============================] - 1s 67ms/step - loss: 0.0772 - categorical_accuracy: 0.9727 - val_loss: 0.2315 - val_categorical_accuracy: 0.9219\n",
      "Epoch 143/300\n",
      "8/8 [==============================] - 1s 63ms/step - loss: 0.2297 - categorical_accuracy: 0.9297 - val_loss: 0.3862 - val_categorical_accuracy: 0.8750\n",
      "Epoch 144/300\n",
      "8/8 [==============================] - 0s 59ms/step - loss: 0.0986 - categorical_accuracy: 0.9570 - val_loss: 0.2189 - val_categorical_accuracy: 0.9375\n",
      "Epoch 145/300\n",
      "8/8 [==============================] - 0s 60ms/step - loss: 0.1390 - categorical_accuracy: 0.9492 - val_loss: 0.6637 - val_categorical_accuracy: 0.8125\n",
      "Epoch 146/300\n",
      "8/8 [==============================] - 1s 72ms/step - loss: 0.7653 - categorical_accuracy: 0.8008 - val_loss: 0.8106 - val_categorical_accuracy: 0.6406\n",
      "Epoch 147/300\n",
      "8/8 [==============================] - 1s 82ms/step - loss: 0.7106 - categorical_accuracy: 0.7734 - val_loss: 0.8577 - val_categorical_accuracy: 0.7344\n",
      "Epoch 148/300\n",
      "8/8 [==============================] - 1s 72ms/step - loss: 0.4608 - categorical_accuracy: 0.8086 - val_loss: 0.3042 - val_categorical_accuracy: 0.9375\n",
      "Epoch 149/300\n",
      "8/8 [==============================] - 1s 64ms/step - loss: 0.4671 - categorical_accuracy: 0.8320 - val_loss: 0.4121 - val_categorical_accuracy: 0.8281\n",
      "Epoch 150/300\n",
      "8/8 [==============================] - 0s 61ms/step - loss: 0.2797 - categorical_accuracy: 0.9023 - val_loss: 0.2593 - val_categorical_accuracy: 0.9531\n",
      "Epoch 151/300\n",
      "8/8 [==============================] - 0s 63ms/step - loss: 0.1428 - categorical_accuracy: 0.9805 - val_loss: 0.2715 - val_categorical_accuracy: 0.9531\n",
      "Epoch 152/300\n",
      "8/8 [==============================] - 0s 59ms/step - loss: 0.1329 - categorical_accuracy: 0.9805 - val_loss: 0.1952 - val_categorical_accuracy: 0.9688\n",
      "Epoch 153/300\n",
      "8/8 [==============================] - 1s 77ms/step - loss: 0.0792 - categorical_accuracy: 1.0000 - val_loss: 0.1920 - val_categorical_accuracy: 0.9844\n",
      "Epoch 154/300\n",
      "8/8 [==============================] - 0s 59ms/step - loss: 0.0603 - categorical_accuracy: 0.9961 - val_loss: 0.1855 - val_categorical_accuracy: 0.9688\n",
      "Epoch 155/300\n",
      "8/8 [==============================] - 0s 59ms/step - loss: 0.0682 - categorical_accuracy: 0.9883 - val_loss: 0.1947 - val_categorical_accuracy: 0.9688\n",
      "Epoch 156/300\n",
      "8/8 [==============================] - 1s 64ms/step - loss: 0.0794 - categorical_accuracy: 0.9727 - val_loss: 0.1858 - val_categorical_accuracy: 0.9688\n",
      "Epoch 157/300\n",
      "8/8 [==============================] - 0s 61ms/step - loss: 0.0818 - categorical_accuracy: 0.9727 - val_loss: 0.1925 - val_categorical_accuracy: 0.9688\n",
      "Epoch 158/300\n",
      "8/8 [==============================] - 1s 65ms/step - loss: 0.0578 - categorical_accuracy: 0.9922 - val_loss: 0.2161 - val_categorical_accuracy: 0.9531\n",
      "Epoch 159/300\n",
      "8/8 [==============================] - 0s 61ms/step - loss: 0.0306 - categorical_accuracy: 0.9922 - val_loss: 0.2349 - val_categorical_accuracy: 0.9375\n",
      "Epoch 160/300\n",
      "8/8 [==============================] - 1s 82ms/step - loss: 0.0195 - categorical_accuracy: 0.9961 - val_loss: 0.2292 - val_categorical_accuracy: 0.9531\n",
      "Epoch 161/300\n",
      "8/8 [==============================] - 1s 67ms/step - loss: 0.0236 - categorical_accuracy: 0.9922 - val_loss: 0.1920 - val_categorical_accuracy: 0.9688\n",
      "Epoch 162/300\n",
      "8/8 [==============================] - 0s 58ms/step - loss: 0.0895 - categorical_accuracy: 0.9727 - val_loss: 0.1930 - val_categorical_accuracy: 0.9688\n",
      "Epoch 163/300\n",
      "8/8 [==============================] - 1s 66ms/step - loss: 0.0631 - categorical_accuracy: 0.9844 - val_loss: 0.2451 - val_categorical_accuracy: 0.9219\n",
      "Epoch 164/300\n",
      "8/8 [==============================] - 0s 64ms/step - loss: 0.0784 - categorical_accuracy: 0.9805 - val_loss: 0.4518 - val_categorical_accuracy: 0.8594\n",
      "Epoch 165/300\n",
      "8/8 [==============================] - 1s 74ms/step - loss: 0.0762 - categorical_accuracy: 0.9688 - val_loss: 0.3442 - val_categorical_accuracy: 0.9062\n",
      "Epoch 166/300\n",
      "8/8 [==============================] - 0s 59ms/step - loss: 0.0894 - categorical_accuracy: 0.9688 - val_loss: 0.2161 - val_categorical_accuracy: 0.9375\n",
      "Epoch 167/300\n",
      "8/8 [==============================] - 0s 57ms/step - loss: 0.1565 - categorical_accuracy: 0.9570 - val_loss: 0.4801 - val_categorical_accuracy: 0.8438\n",
      "Epoch 168/300\n",
      "8/8 [==============================] - 1s 92ms/step - loss: 0.0365 - categorical_accuracy: 0.9922 - val_loss: 0.3239 - val_categorical_accuracy: 0.9375\n",
      "Epoch 169/300\n",
      "8/8 [==============================] - 1s 72ms/step - loss: 0.0289 - categorical_accuracy: 1.0000 - val_loss: 0.2434 - val_categorical_accuracy: 0.9531\n",
      "Epoch 170/300\n",
      "8/8 [==============================] - 1s 71ms/step - loss: 0.0292 - categorical_accuracy: 0.9922 - val_loss: 0.2392 - val_categorical_accuracy: 0.9375\n",
      "Epoch 171/300\n",
      "8/8 [==============================] - 0s 63ms/step - loss: 0.0186 - categorical_accuracy: 1.0000 - val_loss: 0.2049 - val_categorical_accuracy: 0.9531\n",
      "Epoch 172/300\n",
      "8/8 [==============================] - 0s 63ms/step - loss: 0.0152 - categorical_accuracy: 1.0000 - val_loss: 0.1532 - val_categorical_accuracy: 0.9844\n",
      "Epoch 173/300\n",
      "8/8 [==============================] - 0s 60ms/step - loss: 0.0087 - categorical_accuracy: 1.0000 - val_loss: 0.2237 - val_categorical_accuracy: 0.9531\n",
      "Epoch 174/300\n",
      "8/8 [==============================] - 0s 59ms/step - loss: 0.0056 - categorical_accuracy: 1.0000 - val_loss: 0.1701 - val_categorical_accuracy: 0.9844\n",
      "Epoch 175/300\n",
      "8/8 [==============================] - 1s 68ms/step - loss: 0.0059 - categorical_accuracy: 1.0000 - val_loss: 0.2408 - val_categorical_accuracy: 0.9375\n",
      "Epoch 176/300\n",
      "8/8 [==============================] - 1s 72ms/step - loss: 0.0089 - categorical_accuracy: 1.0000 - val_loss: 0.2104 - val_categorical_accuracy: 0.9531\n",
      "Epoch 177/300\n",
      "8/8 [==============================] - 1s 63ms/step - loss: 0.0065 - categorical_accuracy: 1.0000 - val_loss: 0.1815 - val_categorical_accuracy: 0.9844\n",
      "Epoch 178/300\n",
      "8/8 [==============================] - 0s 62ms/step - loss: 0.0128 - categorical_accuracy: 1.0000 - val_loss: 0.2188 - val_categorical_accuracy: 0.9531\n",
      "Epoch 179/300\n",
      "8/8 [==============================] - 1s 78ms/step - loss: 0.0227 - categorical_accuracy: 0.9922 - val_loss: 0.3762 - val_categorical_accuracy: 0.9062\n",
      "Epoch 180/300\n",
      "8/8 [==============================] - 1s 62ms/step - loss: 0.0659 - categorical_accuracy: 0.9688 - val_loss: 0.1738 - val_categorical_accuracy: 0.9688\n",
      "Epoch 181/300\n",
      "8/8 [==============================] - 0s 59ms/step - loss: 0.0867 - categorical_accuracy: 0.9648 - val_loss: 0.2209 - val_categorical_accuracy: 0.9688\n",
      "Epoch 182/300\n",
      "8/8 [==============================] - 1s 66ms/step - loss: 0.1088 - categorical_accuracy: 0.9570 - val_loss: 0.2801 - val_categorical_accuracy: 0.9219\n",
      "Epoch 183/300\n",
      "8/8 [==============================] - 0s 61ms/step - loss: 0.2842 - categorical_accuracy: 0.8867 - val_loss: 0.6476 - val_categorical_accuracy: 0.7969\n",
      "Epoch 184/300\n",
      "8/8 [==============================] - 0s 61ms/step - loss: 0.3411 - categorical_accuracy: 0.8906 - val_loss: 0.1713 - val_categorical_accuracy: 0.9688\n",
      "Epoch 185/300\n",
      "8/8 [==============================] - 0s 63ms/step - loss: 0.3166 - categorical_accuracy: 0.8828 - val_loss: 1.0442 - val_categorical_accuracy: 0.6875\n",
      "Epoch 186/300\n",
      "8/8 [==============================] - 0s 60ms/step - loss: 0.4648 - categorical_accuracy: 0.8125 - val_loss: 0.6305 - val_categorical_accuracy: 0.8125\n",
      "Epoch 187/300\n",
      "8/8 [==============================] - 0s 64ms/step - loss: 0.4097 - categorical_accuracy: 0.8633 - val_loss: 0.2572 - val_categorical_accuracy: 0.9531\n",
      "Epoch 188/300\n",
      "8/8 [==============================] - 1s 71ms/step - loss: 0.2086 - categorical_accuracy: 0.9102 - val_loss: 0.3716 - val_categorical_accuracy: 0.8438\n",
      "Epoch 189/300\n",
      "8/8 [==============================] - 1s 66ms/step - loss: 0.2303 - categorical_accuracy: 0.9023 - val_loss: 0.4512 - val_categorical_accuracy: 0.8281\n",
      "Epoch 190/300\n",
      "8/8 [==============================] - 1s 84ms/step - loss: 0.2431 - categorical_accuracy: 0.8945 - val_loss: 0.5098 - val_categorical_accuracy: 0.7969\n",
      "Epoch 191/300\n",
      "8/8 [==============================] - 1s 80ms/step - loss: 0.3910 - categorical_accuracy: 0.8320 - val_loss: 0.5836 - val_categorical_accuracy: 0.7500\n",
      "Epoch 192/300\n",
      "8/8 [==============================] - 1s 68ms/step - loss: 0.2594 - categorical_accuracy: 0.8906 - val_loss: 0.3470 - val_categorical_accuracy: 0.9062\n",
      "Epoch 193/300\n",
      "8/8 [==============================] - 0s 60ms/step - loss: 0.1459 - categorical_accuracy: 0.9570 - val_loss: 0.2273 - val_categorical_accuracy: 0.9375\n",
      "Epoch 194/300\n",
      "8/8 [==============================] - 0s 64ms/step - loss: 0.0885 - categorical_accuracy: 0.9883 - val_loss: 0.2289 - val_categorical_accuracy: 0.9531\n",
      "Epoch 195/300\n",
      "8/8 [==============================] - 0s 59ms/step - loss: 0.0559 - categorical_accuracy: 1.0000 - val_loss: 0.1664 - val_categorical_accuracy: 0.9844\n",
      "Epoch 196/300\n",
      "8/8 [==============================] - 1s 73ms/step - loss: 0.0369 - categorical_accuracy: 1.0000 - val_loss: 0.2856 - val_categorical_accuracy: 0.9219\n",
      "Epoch 197/300\n",
      "8/8 [==============================] - 0s 58ms/step - loss: 0.0281 - categorical_accuracy: 1.0000 - val_loss: 0.2497 - val_categorical_accuracy: 0.9531\n",
      "Epoch 198/300\n",
      "8/8 [==============================] - 0s 62ms/step - loss: 0.0206 - categorical_accuracy: 1.0000 - val_loss: 0.2672 - val_categorical_accuracy: 0.9531\n",
      "Epoch 199/300\n",
      "8/8 [==============================] - 1s 72ms/step - loss: 0.0137 - categorical_accuracy: 1.0000 - val_loss: 0.2461 - val_categorical_accuracy: 0.9688\n",
      "Epoch 200/300\n",
      "8/8 [==============================] - 0s 61ms/step - loss: 0.0105 - categorical_accuracy: 1.0000 - val_loss: 0.2430 - val_categorical_accuracy: 0.9688\n",
      "Epoch 201/300\n",
      "8/8 [==============================] - 1s 82ms/step - loss: 0.0093 - categorical_accuracy: 1.0000 - val_loss: 0.2582 - val_categorical_accuracy: 0.9531\n",
      "Epoch 202/300\n",
      "8/8 [==============================] - 0s 58ms/step - loss: 0.0072 - categorical_accuracy: 1.0000 - val_loss: 0.2719 - val_categorical_accuracy: 0.9688\n",
      "Epoch 203/300\n",
      "8/8 [==============================] - 0s 62ms/step - loss: 0.0064 - categorical_accuracy: 1.0000 - val_loss: 0.2639 - val_categorical_accuracy: 0.9531\n",
      "Epoch 204/300\n",
      "8/8 [==============================] - 0s 63ms/step - loss: 0.0052 - categorical_accuracy: 1.0000 - val_loss: 0.2657 - val_categorical_accuracy: 0.9688\n",
      "Epoch 205/300\n",
      "8/8 [==============================] - 0s 58ms/step - loss: 0.0048 - categorical_accuracy: 1.0000 - val_loss: 0.2884 - val_categorical_accuracy: 0.9531\n",
      "Epoch 206/300\n",
      "8/8 [==============================] - 0s 63ms/step - loss: 0.0043 - categorical_accuracy: 1.0000 - val_loss: 0.2805 - val_categorical_accuracy: 0.9531\n",
      "Epoch 207/300\n",
      "8/8 [==============================] - 0s 61ms/step - loss: 0.0038 - categorical_accuracy: 1.0000 - val_loss: 0.2957 - val_categorical_accuracy: 0.9531\n",
      "Epoch 208/300\n",
      "8/8 [==============================] - 0s 64ms/step - loss: 0.0035 - categorical_accuracy: 1.0000 - val_loss: 0.3075 - val_categorical_accuracy: 0.9531\n",
      "Epoch 209/300\n",
      "8/8 [==============================] - 1s 72ms/step - loss: 0.0032 - categorical_accuracy: 1.0000 - val_loss: 0.3056 - val_categorical_accuracy: 0.9531\n",
      "Epoch 210/300\n",
      "8/8 [==============================] - 0s 61ms/step - loss: 0.0031 - categorical_accuracy: 1.0000 - val_loss: 0.3162 - val_categorical_accuracy: 0.9531\n",
      "Epoch 211/300\n",
      "8/8 [==============================] - 1s 73ms/step - loss: 0.0028 - categorical_accuracy: 1.0000 - val_loss: 0.3328 - val_categorical_accuracy: 0.9531\n",
      "Epoch 212/300\n",
      "8/8 [==============================] - 1s 80ms/step - loss: 0.0026 - categorical_accuracy: 1.0000 - val_loss: 0.2970 - val_categorical_accuracy: 0.9531\n",
      "Epoch 213/300\n",
      "8/8 [==============================] - 1s 73ms/step - loss: 0.0026 - categorical_accuracy: 1.0000 - val_loss: 0.3185 - val_categorical_accuracy: 0.9531\n",
      "Epoch 214/300\n",
      "8/8 [==============================] - 1s 66ms/step - loss: 0.0023 - categorical_accuracy: 1.0000 - val_loss: 0.3327 - val_categorical_accuracy: 0.9531\n",
      "Epoch 215/300\n",
      "8/8 [==============================] - 0s 61ms/step - loss: 0.0021 - categorical_accuracy: 1.0000 - val_loss: 0.3205 - val_categorical_accuracy: 0.9531\n",
      "Epoch 216/300\n",
      "8/8 [==============================] - 0s 62ms/step - loss: 0.0020 - categorical_accuracy: 1.0000 - val_loss: 0.3408 - val_categorical_accuracy: 0.9531\n",
      "Epoch 217/300\n",
      "8/8 [==============================] - 0s 60ms/step - loss: 0.0018 - categorical_accuracy: 1.0000 - val_loss: 0.3383 - val_categorical_accuracy: 0.9531\n",
      "Epoch 218/300\n",
      "8/8 [==============================] - 1s 65ms/step - loss: 0.0018 - categorical_accuracy: 1.0000 - val_loss: 0.3447 - val_categorical_accuracy: 0.9531\n",
      "Epoch 219/300\n",
      "8/8 [==============================] - 0s 60ms/step - loss: 0.0016 - categorical_accuracy: 1.0000 - val_loss: 0.3462 - val_categorical_accuracy: 0.9531\n",
      "Epoch 220/300\n",
      "8/8 [==============================] - 0s 59ms/step - loss: 0.0018 - categorical_accuracy: 1.0000 - val_loss: 0.3303 - val_categorical_accuracy: 0.9531\n",
      "Epoch 221/300\n",
      "8/8 [==============================] - 1s 66ms/step - loss: 0.0015 - categorical_accuracy: 1.0000 - val_loss: 0.3722 - val_categorical_accuracy: 0.9531\n",
      "Epoch 222/300\n",
      "8/8 [==============================] - 1s 77ms/step - loss: 0.0017 - categorical_accuracy: 1.0000 - val_loss: 0.3346 - val_categorical_accuracy: 0.9531\n",
      "Epoch 223/300\n",
      "8/8 [==============================] - 1s 82ms/step - loss: 0.0014 - categorical_accuracy: 1.0000 - val_loss: 0.3612 - val_categorical_accuracy: 0.9531\n",
      "Epoch 224/300\n",
      "8/8 [==============================] - 0s 59ms/step - loss: 0.0013 - categorical_accuracy: 1.0000 - val_loss: 0.3348 - val_categorical_accuracy: 0.9531\n",
      "Epoch 225/300\n",
      "8/8 [==============================] - 0s 61ms/step - loss: 0.0012 - categorical_accuracy: 1.0000 - val_loss: 0.3557 - val_categorical_accuracy: 0.9531\n",
      "Epoch 226/300\n",
      "8/8 [==============================] - 0s 61ms/step - loss: 0.0011 - categorical_accuracy: 1.0000 - val_loss: 0.3445 - val_categorical_accuracy: 0.9531\n",
      "Epoch 227/300\n",
      "8/8 [==============================] - 0s 61ms/step - loss: 0.0011 - categorical_accuracy: 1.0000 - val_loss: 0.3473 - val_categorical_accuracy: 0.9531\n",
      "Epoch 228/300\n",
      "8/8 [==============================] - 0s 65ms/step - loss: 0.0010 - categorical_accuracy: 1.0000 - val_loss: 0.3525 - val_categorical_accuracy: 0.9531\n",
      "Epoch 229/300\n",
      "8/8 [==============================] - 0s 61ms/step - loss: 9.9315e-04 - categorical_accuracy: 1.0000 - val_loss: 0.3515 - val_categorical_accuracy: 0.9531\n",
      "Epoch 230/300\n",
      "8/8 [==============================] - 0s 62ms/step - loss: 9.5318e-04 - categorical_accuracy: 1.0000 - val_loss: 0.3582 - val_categorical_accuracy: 0.9531\n",
      "Epoch 231/300\n",
      "8/8 [==============================] - 0s 61ms/step - loss: 9.1380e-04 - categorical_accuracy: 1.0000 - val_loss: 0.3536 - val_categorical_accuracy: 0.9531\n",
      "Epoch 232/300\n",
      "8/8 [==============================] - 0s 60ms/step - loss: 8.8064e-04 - categorical_accuracy: 1.0000 - val_loss: 0.3639 - val_categorical_accuracy: 0.9531\n",
      "Epoch 233/300\n",
      "8/8 [==============================] - 1s 87ms/step - loss: 8.6175e-04 - categorical_accuracy: 1.0000 - val_loss: 0.3627 - val_categorical_accuracy: 0.9531\n",
      "Epoch 234/300\n",
      "8/8 [==============================] - 1s 84ms/step - loss: 7.9093e-04 - categorical_accuracy: 1.0000 - val_loss: 0.3513 - val_categorical_accuracy: 0.9531\n",
      "Epoch 235/300\n",
      "8/8 [==============================] - 1s 93ms/step - loss: 7.7747e-04 - categorical_accuracy: 1.0000 - val_loss: 0.3631 - val_categorical_accuracy: 0.9531\n",
      "Epoch 236/300\n",
      "8/8 [==============================] - 1s 93ms/step - loss: 7.5235e-04 - categorical_accuracy: 1.0000 - val_loss: 0.3585 - val_categorical_accuracy: 0.9531\n",
      "Epoch 237/300\n",
      "8/8 [==============================] - 1s 71ms/step - loss: 7.1611e-04 - categorical_accuracy: 1.0000 - val_loss: 0.3615 - val_categorical_accuracy: 0.9531\n",
      "Epoch 238/300\n",
      "8/8 [==============================] - 0s 58ms/step - loss: 6.7622e-04 - categorical_accuracy: 1.0000 - val_loss: 0.3612 - val_categorical_accuracy: 0.9531\n",
      "Epoch 239/300\n",
      "8/8 [==============================] - 0s 59ms/step - loss: 6.6710e-04 - categorical_accuracy: 1.0000 - val_loss: 0.3611 - val_categorical_accuracy: 0.9531\n",
      "Epoch 240/300\n",
      "8/8 [==============================] - 0s 62ms/step - loss: 6.3430e-04 - categorical_accuracy: 1.0000 - val_loss: 0.3596 - val_categorical_accuracy: 0.9531\n",
      "Epoch 241/300\n",
      "8/8 [==============================] - 1s 68ms/step - loss: 6.0532e-04 - categorical_accuracy: 1.0000 - val_loss: 0.3740 - val_categorical_accuracy: 0.9531\n",
      "Epoch 242/300\n",
      "8/8 [==============================] - 1s 88ms/step - loss: 5.9907e-04 - categorical_accuracy: 1.0000 - val_loss: 0.3664 - val_categorical_accuracy: 0.9531\n",
      "Epoch 243/300\n",
      "8/8 [==============================] - 0s 60ms/step - loss: 5.8127e-04 - categorical_accuracy: 1.0000 - val_loss: 0.3625 - val_categorical_accuracy: 0.9531\n",
      "Epoch 244/300\n",
      "8/8 [==============================] - 0s 63ms/step - loss: 6.0535e-04 - categorical_accuracy: 1.0000 - val_loss: 0.3807 - val_categorical_accuracy: 0.9531\n",
      "Epoch 245/300\n",
      "8/8 [==============================] - 0s 59ms/step - loss: 6.1596e-04 - categorical_accuracy: 1.0000 - val_loss: 0.3529 - val_categorical_accuracy: 0.9531\n",
      "Epoch 246/300\n",
      "8/8 [==============================] - 0s 59ms/step - loss: 5.1211e-04 - categorical_accuracy: 1.0000 - val_loss: 0.3684 - val_categorical_accuracy: 0.9531\n",
      "Epoch 247/300\n",
      "8/8 [==============================] - 1s 65ms/step - loss: 5.7717e-04 - categorical_accuracy: 1.0000 - val_loss: 0.3827 - val_categorical_accuracy: 0.9531\n",
      "Epoch 248/300\n",
      "8/8 [==============================] - 0s 59ms/step - loss: 4.5931e-04 - categorical_accuracy: 1.0000 - val_loss: 0.3603 - val_categorical_accuracy: 0.9531\n",
      "Epoch 249/300\n",
      "8/8 [==============================] - 1s 80ms/step - loss: 4.9500e-04 - categorical_accuracy: 1.0000 - val_loss: 0.3740 - val_categorical_accuracy: 0.9531\n",
      "Epoch 250/300\n",
      "8/8 [==============================] - 0s 60ms/step - loss: 4.4109e-04 - categorical_accuracy: 1.0000 - val_loss: 0.3799 - val_categorical_accuracy: 0.9531\n",
      "Epoch 251/300\n",
      "8/8 [==============================] - 0s 58ms/step - loss: 4.2725e-04 - categorical_accuracy: 1.0000 - val_loss: 0.3754 - val_categorical_accuracy: 0.9531\n",
      "Epoch 252/300\n",
      "8/8 [==============================] - 1s 86ms/step - loss: 4.1997e-04 - categorical_accuracy: 1.0000 - val_loss: 0.3754 - val_categorical_accuracy: 0.9531\n",
      "Epoch 253/300\n",
      "8/8 [==============================] - 0s 60ms/step - loss: 4.2134e-04 - categorical_accuracy: 1.0000 - val_loss: 0.3838 - val_categorical_accuracy: 0.9531\n",
      "Epoch 254/300\n",
      "8/8 [==============================] - 1s 68ms/step - loss: 4.0817e-04 - categorical_accuracy: 1.0000 - val_loss: 0.3736 - val_categorical_accuracy: 0.9531\n",
      "Epoch 255/300\n",
      "8/8 [==============================] - 0s 62ms/step - loss: 3.8405e-04 - categorical_accuracy: 1.0000 - val_loss: 0.3862 - val_categorical_accuracy: 0.9531\n",
      "Epoch 256/300\n",
      "8/8 [==============================] - 1s 68ms/step - loss: 4.3086e-04 - categorical_accuracy: 1.0000 - val_loss: 0.3956 - val_categorical_accuracy: 0.9531\n",
      "Epoch 257/300\n",
      "8/8 [==============================] - 1s 73ms/step - loss: 3.5465e-04 - categorical_accuracy: 1.0000 - val_loss: 0.3756 - val_categorical_accuracy: 0.9531\n",
      "Epoch 258/300\n",
      "8/8 [==============================] - 1s 67ms/step - loss: 3.7127e-04 - categorical_accuracy: 1.0000 - val_loss: 0.3893 - val_categorical_accuracy: 0.9531\n",
      "Epoch 259/300\n",
      "8/8 [==============================] - 1s 67ms/step - loss: 3.4029e-04 - categorical_accuracy: 1.0000 - val_loss: 0.3930 - val_categorical_accuracy: 0.9531\n",
      "Epoch 260/300\n",
      "8/8 [==============================] - 1s 74ms/step - loss: 3.2792e-04 - categorical_accuracy: 1.0000 - val_loss: 0.3914 - val_categorical_accuracy: 0.9531\n",
      "Epoch 261/300\n",
      "8/8 [==============================] - 1s 84ms/step - loss: 3.4258e-04 - categorical_accuracy: 1.0000 - val_loss: 0.3939 - val_categorical_accuracy: 0.9531\n",
      "Epoch 262/300\n",
      "8/8 [==============================] - 1s 73ms/step - loss: 3.3653e-04 - categorical_accuracy: 1.0000 - val_loss: 0.3999 - val_categorical_accuracy: 0.9531\n",
      "Epoch 263/300\n",
      "8/8 [==============================] - 1s 81ms/step - loss: 3.0656e-04 - categorical_accuracy: 1.0000 - val_loss: 0.3808 - val_categorical_accuracy: 0.9531\n",
      "Epoch 264/300\n",
      "8/8 [==============================] - 1s 78ms/step - loss: 2.9962e-04 - categorical_accuracy: 1.0000 - val_loss: 0.3882 - val_categorical_accuracy: 0.9531\n",
      "Epoch 265/300\n",
      "8/8 [==============================] - 1s 80ms/step - loss: 3.0044e-04 - categorical_accuracy: 1.0000 - val_loss: 0.3907 - val_categorical_accuracy: 0.9531\n",
      "Epoch 266/300\n",
      "8/8 [==============================] - 1s 72ms/step - loss: 2.7457e-04 - categorical_accuracy: 1.0000 - val_loss: 0.3974 - val_categorical_accuracy: 0.9531\n",
      "Epoch 267/300\n",
      "8/8 [==============================] - 1s 83ms/step - loss: 2.6617e-04 - categorical_accuracy: 1.0000 - val_loss: 0.3938 - val_categorical_accuracy: 0.9531\n",
      "Epoch 268/300\n",
      "8/8 [==============================] - 1s 88ms/step - loss: 2.8254e-04 - categorical_accuracy: 1.0000 - val_loss: 0.3920 - val_categorical_accuracy: 0.9531\n",
      "Epoch 269/300\n",
      "8/8 [==============================] - 1s 76ms/step - loss: 2.6744e-04 - categorical_accuracy: 1.0000 - val_loss: 0.4058 - val_categorical_accuracy: 0.9531\n",
      "Epoch 270/300\n",
      "8/8 [==============================] - 1s 77ms/step - loss: 2.5860e-04 - categorical_accuracy: 1.0000 - val_loss: 0.3970 - val_categorical_accuracy: 0.9531\n",
      "Epoch 271/300\n",
      "8/8 [==============================] - 1s 70ms/step - loss: 2.4091e-04 - categorical_accuracy: 1.0000 - val_loss: 0.3884 - val_categorical_accuracy: 0.9531\n",
      "Epoch 272/300\n",
      "8/8 [==============================] - 1s 67ms/step - loss: 2.4290e-04 - categorical_accuracy: 1.0000 - val_loss: 0.3934 - val_categorical_accuracy: 0.9531\n",
      "Epoch 273/300\n",
      "8/8 [==============================] - 1s 70ms/step - loss: 2.6549e-04 - categorical_accuracy: 1.0000 - val_loss: 0.4082 - val_categorical_accuracy: 0.9531\n",
      "Epoch 274/300\n",
      "8/8 [==============================] - 1s 79ms/step - loss: 2.8935e-04 - categorical_accuracy: 1.0000 - val_loss: 0.3826 - val_categorical_accuracy: 0.9531\n",
      "Epoch 275/300\n",
      "8/8 [==============================] - 1s 89ms/step - loss: 2.2736e-04 - categorical_accuracy: 1.0000 - val_loss: 0.4072 - val_categorical_accuracy: 0.9531\n",
      "Epoch 276/300\n",
      "8/8 [==============================] - 1s 113ms/step - loss: 2.3572e-04 - categorical_accuracy: 1.0000 - val_loss: 0.3941 - val_categorical_accuracy: 0.9531\n",
      "Epoch 277/300\n",
      "8/8 [==============================] - 1s 87ms/step - loss: 2.0011e-04 - categorical_accuracy: 1.0000 - val_loss: 0.4020 - val_categorical_accuracy: 0.9531\n",
      "Epoch 278/300\n",
      "8/8 [==============================] - 1s 75ms/step - loss: 1.9127e-04 - categorical_accuracy: 1.0000 - val_loss: 0.3893 - val_categorical_accuracy: 0.9531\n",
      "Epoch 279/300\n",
      "8/8 [==============================] - 1s 84ms/step - loss: 1.7821e-04 - categorical_accuracy: 1.0000 - val_loss: 0.3890 - val_categorical_accuracy: 0.9531\n",
      "Epoch 280/300\n",
      "8/8 [==============================] - 1s 81ms/step - loss: 1.7243e-04 - categorical_accuracy: 1.0000 - val_loss: 0.3859 - val_categorical_accuracy: 0.9531\n",
      "Epoch 281/300\n",
      "8/8 [==============================] - 1s 79ms/step - loss: 1.6525e-04 - categorical_accuracy: 1.0000 - val_loss: 0.3948 - val_categorical_accuracy: 0.9531\n",
      "Epoch 282/300\n",
      "8/8 [==============================] - 1s 72ms/step - loss: 1.6170e-04 - categorical_accuracy: 1.0000 - val_loss: 0.3950 - val_categorical_accuracy: 0.9531\n",
      "Epoch 283/300\n",
      "8/8 [==============================] - 1s 76ms/step - loss: 1.5679e-04 - categorical_accuracy: 1.0000 - val_loss: 0.3990 - val_categorical_accuracy: 0.9531\n",
      "Epoch 284/300\n",
      "8/8 [==============================] - 1s 91ms/step - loss: 1.4938e-04 - categorical_accuracy: 1.0000 - val_loss: 0.3998 - val_categorical_accuracy: 0.9531\n",
      "Epoch 285/300\n",
      "8/8 [==============================] - 1s 77ms/step - loss: 1.5743e-04 - categorical_accuracy: 1.0000 - val_loss: 0.4015 - val_categorical_accuracy: 0.9531\n",
      "Epoch 286/300\n",
      "8/8 [==============================] - 1s 73ms/step - loss: 1.4189e-04 - categorical_accuracy: 1.0000 - val_loss: 0.4071 - val_categorical_accuracy: 0.9531\n",
      "Epoch 287/300\n",
      "8/8 [==============================] - 1s 81ms/step - loss: 1.4042e-04 - categorical_accuracy: 1.0000 - val_loss: 0.4071 - val_categorical_accuracy: 0.9531\n",
      "Epoch 288/300\n",
      "8/8 [==============================] - 1s 72ms/step - loss: 1.3714e-04 - categorical_accuracy: 1.0000 - val_loss: 0.4058 - val_categorical_accuracy: 0.9531\n",
      "Epoch 289/300\n",
      "8/8 [==============================] - 1s 82ms/step - loss: 1.3097e-04 - categorical_accuracy: 1.0000 - val_loss: 0.4042 - val_categorical_accuracy: 0.9531\n",
      "Epoch 290/300\n",
      "8/8 [==============================] - 1s 65ms/step - loss: 1.2497e-04 - categorical_accuracy: 1.0000 - val_loss: 0.3965 - val_categorical_accuracy: 0.9531\n",
      "Epoch 291/300\n",
      "8/8 [==============================] - 1s 85ms/step - loss: 1.2917e-04 - categorical_accuracy: 1.0000 - val_loss: 0.4031 - val_categorical_accuracy: 0.9531\n",
      "Epoch 292/300\n",
      "8/8 [==============================] - 1s 71ms/step - loss: 1.2871e-04 - categorical_accuracy: 1.0000 - val_loss: 0.4105 - val_categorical_accuracy: 0.9531\n",
      "Epoch 293/300\n",
      "8/8 [==============================] - 0s 63ms/step - loss: 1.2853e-04 - categorical_accuracy: 1.0000 - val_loss: 0.4169 - val_categorical_accuracy: 0.9531\n",
      "Epoch 294/300\n",
      "8/8 [==============================] - 1s 68ms/step - loss: 1.1754e-04 - categorical_accuracy: 1.0000 - val_loss: 0.4163 - val_categorical_accuracy: 0.9531\n",
      "Epoch 295/300\n",
      "8/8 [==============================] - 1s 78ms/step - loss: 1.0884e-04 - categorical_accuracy: 1.0000 - val_loss: 0.4073 - val_categorical_accuracy: 0.9531\n",
      "Epoch 296/300\n",
      "8/8 [==============================] - 1s 88ms/step - loss: 1.0609e-04 - categorical_accuracy: 1.0000 - val_loss: 0.4082 - val_categorical_accuracy: 0.9531\n",
      "Epoch 297/300\n",
      "8/8 [==============================] - 1s 66ms/step - loss: 1.1399e-04 - categorical_accuracy: 1.0000 - val_loss: 0.4136 - val_categorical_accuracy: 0.9531\n",
      "Epoch 298/300\n",
      "8/8 [==============================] - 1s 66ms/step - loss: 1.0582e-04 - categorical_accuracy: 1.0000 - val_loss: 0.4208 - val_categorical_accuracy: 0.9531\n",
      "Epoch 299/300\n",
      "8/8 [==============================] - 1s 84ms/step - loss: 9.8538e-05 - categorical_accuracy: 1.0000 - val_loss: 0.4194 - val_categorical_accuracy: 0.9531\n",
      "Epoch 300/300\n",
      "8/8 [==============================] - 1s 65ms/step - loss: 9.2513e-05 - categorical_accuracy: 1.0000 - val_loss: 0.4154 - val_categorical_accuracy: 0.9531\n"
     ]
    }
   ],
   "source": [
    "from keras.callbacks import EarlyStopping, ModelCheckpoint\n",
    "\n",
    "early_stopping = EarlyStopping(monitor='val_loss', patience=15)\n",
    "model_checkpoint = ModelCheckpoint('LSTM_KNN_DTW_BEST_10words_test3.h5', save_best_only=True)\n",
    "\n",
    "# Train the model\n",
    "history = model.fit(X_train, y_train, validation_split=0.2, epochs=300, callbacks=[model_checkpoint])\n"
   ]
  },
  {
   "cell_type": "code",
   "execution_count": null,
   "metadata": {},
   "outputs": [],
   "source": [
    "X_test, y_test"
   ]
  },
  {
   "cell_type": "code",
   "execution_count": 32,
   "metadata": {},
   "outputs": [],
   "source": [
    "model.save('action10_best_95.h5')"
   ]
  },
  {
   "cell_type": "code",
   "execution_count": 33,
   "metadata": {},
   "outputs": [],
   "source": [
    "model.load_weights('action10_best_95.h5')"
   ]
  },
  {
   "cell_type": "code",
   "execution_count": 34,
   "metadata": {},
   "outputs": [
    {
     "name": "stdout",
     "output_type": "stream",
     "text": [
      "3/3 [==============================] - 1s 25ms/step\n"
     ]
    }
   ],
   "source": [
    "res = model.predict(X_test)"
   ]
  },
  {
   "cell_type": "code",
   "execution_count": 35,
   "metadata": {},
   "outputs": [],
   "source": [
    "from tensorflow.keras.models import load_model\n",
    "import tensorflow as tf"
   ]
  },
  {
   "cell_type": "code",
   "execution_count": 36,
   "metadata": {},
   "outputs": [],
   "source": [
    "model_5 = load_model('LSTM_KNN_DTW_BEST_10words_test3.h5')"
   ]
  },
  {
   "cell_type": "code",
   "execution_count": null,
   "metadata": {},
   "outputs": [],
   "source": [
    "model = tf.keras.models.load_model(\"LSTM_try_6_with_more_test_best_model.h5\")"
   ]
  },
  {
   "cell_type": "code",
   "execution_count": 37,
   "metadata": {},
   "outputs": [
    {
     "name": "stdout",
     "output_type": "stream",
     "text": [
      "Model: \"sequential_1\"\n",
      "_________________________________________________________________\n",
      " Layer (type)                Output Shape              Param #   \n",
      "=================================================================\n",
      " lstm_3 (LSTM)               (None, 30, 64)            442112    \n",
      "                                                                 \n",
      " lstm_4 (LSTM)               (None, 30, 128)           98816     \n",
      "                                                                 \n",
      " lstm_5 (LSTM)               (None, 64)                49408     \n",
      "                                                                 \n",
      " dense_3 (Dense)             (None, 64)                4160      \n",
      "                                                                 \n",
      " dense_4 (Dense)             (None, 32)                2080      \n",
      "                                                                 \n",
      " dense_5 (Dense)             (None, 10)                330       \n",
      "                                                                 \n",
      "=================================================================\n",
      "Total params: 596906 (2.28 MB)\n",
      "Trainable params: 596906 (2.28 MB)\n",
      "Non-trainable params: 0 (0.00 Byte)\n",
      "_________________________________________________________________\n"
     ]
    }
   ],
   "source": [
    "model_5.summary()"
   ]
  },
  {
   "cell_type": "code",
   "execution_count": 43,
   "metadata": {},
   "outputs": [],
   "source": [
    "from sklearn.metrics import multilabel_confusion_matrix, accuracy_score,precision_score, recall_score, f1_score, confusion_matrix"
   ]
  },
  {
   "cell_type": "code",
   "execution_count": 45,
   "metadata": {},
   "outputs": [
    {
     "name": "stdout",
     "output_type": "stream",
     "text": [
      "3/3 [==============================] - 1s 19ms/step\n"
     ]
    }
   ],
   "source": [
    "yhat = model_5.predict(X_test)"
   ]
  },
  {
   "cell_type": "code",
   "execution_count": 46,
   "metadata": {},
   "outputs": [
    {
     "data": {
      "text/plain": [
       "'drink'"
      ]
     },
     "execution_count": 46,
     "metadata": {},
     "output_type": "execute_result"
    }
   ],
   "source": [
    "actions[np.argmax(res[2])]\n"
   ]
  },
  {
   "cell_type": "code",
   "execution_count": 47,
   "metadata": {},
   "outputs": [
    {
     "data": {
      "text/plain": [
       "'drink'"
      ]
     },
     "execution_count": 47,
     "metadata": {},
     "output_type": "execute_result"
    }
   ],
   "source": [
    "actions[np.argmax(y_test[2])]"
   ]
  },
  {
   "cell_type": "code",
   "execution_count": 48,
   "metadata": {},
   "outputs": [],
   "source": [
    "ytrue = np.argmax(y_test, axis=1).tolist()\n",
    "yhat = np.argmax(yhat, axis=1).tolist()"
   ]
  },
  {
   "cell_type": "code",
   "execution_count": null,
   "metadata": {},
   "outputs": [],
   "source": [
    "ytrue"
   ]
  },
  {
   "cell_type": "code",
   "execution_count": null,
   "metadata": {},
   "outputs": [],
   "source": [
    "yhat"
   ]
  },
  {
   "cell_type": "code",
   "execution_count": 49,
   "metadata": {},
   "outputs": [
    {
     "name": "stdout",
     "output_type": "stream",
     "text": [
      "Precision: 0.9149567099567101\n",
      "Recall: 0.8807142857142857\n",
      "F1 Score: 0.8898852202971197\n",
      "Accuracy: 0.9\n"
     ]
    }
   ],
   "source": [
    "# Precision\n",
    "precision = precision_score(ytrue, yhat, average='macro')  # or 'binary' if you have binary classification\n",
    "\n",
    "# Recall\n",
    "recall = recall_score(ytrue, yhat, average='macro')  # or 'binary' if you have binary classification\n",
    "\n",
    "# F1 Score\n",
    "f1 = f1_score(ytrue, yhat, average='macro')  # or 'binary' if you have binary classification\n",
    "\n",
    "#accuracy score\n",
    "accuracy = accuracy_score(ytrue, yhat)\n",
    "\n",
    "print(\"Precision:\", precision)\n",
    "print(\"Recall:\", recall)\n",
    "print(\"F1 Score:\", f1)\n",
    "print(\"Accuracy:\", accuracy)"
   ]
  },
  {
   "cell_type": "code",
   "execution_count": 51,
   "metadata": {},
   "outputs": [],
   "source": [
    "import seaborn as sns\n",
    "from sklearn.metrics import confusion_matrix"
   ]
  },
  {
   "cell_type": "code",
   "execution_count": 52,
   "metadata": {},
   "outputs": [
    {
     "data": {
      "image/png": "[encoded data removed]",
      "text/plain": [
       "<Figure size 1000x800 with 2 Axes>"
      ]
     },
     "metadata": {},
     "output_type": "display_data"
    }
   ],
   "source": [
    "cm = confusion_matrix(ytrue, yhat)\n",
    "\n",
    "# Plot the confusion matrix\n",
    "plt.figure(figsize=(10, 8))\n",
    "sns.heatmap(cm, annot=True, fmt='d', cmap='Blues', xticklabels=actions, yticklabels=actions)\n",
    "plt.xlabel('Predicted')\n",
    "plt.ylabel('True')\n",
    "plt.title('Confusion Matrix')\n",
    "plt.show()"
   ]
  },
  {
   "cell_type": "code",
   "execution_count": null,
   "metadata": {},
   "outputs": [],
   "source": [
    "import matplotlib.pyplot as plt\n",
    "\n",
    "class_counts = np.bincount(y_train)  # Assuming y_train contains the class labels\n",
    "plt.bar(range(len(class_counts)), class_counts, tick_label=actions)\n",
    "plt.xlabel('Classes')\n",
    "plt.ylabel('Number of Samples')\n",
    "plt.title('Class Distribution')\n",
    "plt.show()"
   ]
  },
  {
   "cell_type": "code",
   "execution_count": null,
   "metadata": {},
   "outputs": [],
   "source": [
    "model.summary()"
   ]
  },
  {
   "cell_type": "code",
   "execution_count": null,
   "metadata": {},
   "outputs": [],
   "source": [
    "model_5 = load_model('action2.h5')"
   ]
  },
  {
   "cell_type": "code",
   "execution_count": null,
   "metadata": {},
   "outputs": [],
   "source": [
    "model_evaluation_history = model_5.evaluate(X_test, y_test)\n"
   ]
  },
  {
   "cell_type": "code",
   "execution_count": null,
   "metadata": {},
   "outputs": [],
   "source": [
    "def plot_metric(model_training_history, metric_name_1, metric_name_2, plot_name):\n",
    "  \n",
    "  metric_value_1 = model_training_history.history[metric_name_1]\n",
    "  metric_value_2 = model_training_history.history[metric_name_2]\n",
    "  \n",
    "  epochs = range(len(metric_value_1))\n",
    "  \n",
    "  #plot the graph\n",
    "  plt.plot(epochs, metric_value_1, 'blue', label = metric_name_1)\n",
    "  plt.plot(epochs, metric_value_2, 'red', label = metric_name_2)\n",
    "  \n",
    "  plt.title(str(plot_name))\n",
    "  \n",
    "  plt.legend()"
   ]
  },
  {
   "cell_type": "code",
   "execution_count": null,
   "metadata": {},
   "outputs": [],
   "source": [
    "plot_metric(history, 'loss', 'val_loss', 'Total Loss vs Validation Loss')"
   ]
  },
  {
   "cell_type": "code",
   "execution_count": null,
   "metadata": {},
   "outputs": [],
   "source": [
    "plot_metric(history, 'categorical_accuracy', 'val_categorical_accuracy', 'Total Accuracy vs Validation Accuracy')"
   ]
  },
  {
   "cell_type": "markdown",
   "metadata": {},
   "source": [
    "# add noise to keypoints"
   ]
  },
  {
   "cell_type": "code",
   "execution_count": null,
   "metadata": {},
   "outputs": [],
   "source": [
    "\n",
    "def add_noise(X, mean=0, std_dev=0.001):\n",
    "    noise = np.random.normal(mean, std_dev, X.shape)\n",
    "    return X + noise"
   ]
  },
  {
   "cell_type": "code",
   "execution_count": null,
   "metadata": {},
   "outputs": [],
   "source": [
    "# Adding noise to X_test\n",
    "X_test_noisy = add_noise(X_test, mean=1, std_dev=0)\n",
    "\n",
    "# Making predictions with the noisy X_test\n",
    "yhat_noisy_probs = model_5.predict(X_test_noisy)\n",
    "\n",
    "# If the model outputs probabilities, convert them to class labels\n",
    "# Assuming a multi-class classification problem\n",
    "yhat_noisy = np.argmax(yhat_noisy_probs, axis=1)\n",
    "\n",
    "# Ensure y_test is in the same format\n",
    "y_test_labels = np.argmax(y_test, axis=1) if y_test.ndim > 1 else y_test\n",
    "\n",
    "# Calculate precision and recall\n",
    "precision = precision_score(y_test_labels, yhat_noisy, average='macro')\n",
    "recall = recall_score(y_test_labels, yhat_noisy, average='macro')\n",
    "# F1 Score\n",
    "f1 = f1_score(ytrue, yhat_noisy, average='macro')  # or 'binary' if you have binary classification\n",
    "\n",
    "#accuracy score\n",
    "accuracy = accuracy_score(ytrue, yhat_noisy)\n",
    "\n",
    "\n",
    "print(f'Precision with noisy data: {precision}')\n",
    "print(f'Recall with noisy data: {recall}')\n",
    "print(\"F1 Score:\", f1)\n",
    "print(\"Accuracy:\", accuracy)\n"
   ]
  },
  {
   "cell_type": "code",
   "execution_count": null,
   "metadata": {},
   "outputs": [],
   "source": [
    "yhat_noisy = model_5.predict(X_test_noisy)"
   ]
  },
  {
   "cell_type": "code",
   "execution_count": null,
   "metadata": {},
   "outputs": [],
   "source": [
    "# Precision\n",
    "precision = precision_score(ytrue, yhat_noisy, average='macro')  # or 'binary' if you have binary classification\n",
    "\n",
    "# Recall\n",
    "recall = recall_score(ytrue, yhat_noisy, average='macro')  # or 'binary' if you have binary classification\n",
    "\n",
    "# F1 Score\n",
    "f1 = f1_score(ytrue, yhat_noisy, average='macro')  # or 'binary' if you have binary classification\n",
    "\n",
    "#accuracy score\n",
    "accuracy = accuracy_score(ytrue, yhat_noisy)\n",
    "\n",
    "print(\"Precision:\", precision)\n",
    "print(\"Recall:\", recall)\n",
    "print(\"F1 Score:\", f1)\n",
    "print(\"Accuracy:\", accuracy)"
   ]
  },
  {
   "cell_type": "code",
   "execution_count": null,
   "metadata": {},
   "outputs": [],
   "source": [
    "precision = precision_score(y_test, yhat_noisy, average='binary')"
   ]
  },
  {
   "cell_type": "markdown",
   "metadata": {},
   "source": [
    "-------------------------"
   ]
  },
  {
   "cell_type": "code",
   "execution_count": null,
   "metadata": {},
   "outputs": [],
   "source": [
    "conf_matrix = confusion_matrix(ytrue, yhat)"
   ]
  },
  {
   "cell_type": "code",
   "execution_count": null,
   "metadata": {},
   "outputs": [],
   "source": [
    "\n",
    "import matplotlib.pyplot as plt\n",
    "import seaborn as sns\n",
    "\n",
    "# Select the confusion matrix for the first class (index 0)\n",
    "plt.figure(figsize=(10, 7))  # Set the figure size\n",
    "sns.heatmap(conf_matrix, annot=True, fmt='d', cmap='Blues', cbar=False)  # 'fmt' is the string format for numeric value\n",
    "plt.title('Confusion Matrix')\n",
    "plt.xlabel('Predicted Labels')\n",
    "plt.ylabel('True Labels')\n",
    "\n",
    "# Optional: Adjust the labels if you have specific class names\n",
    "class_labels = [\"hello\",\"thanks\",\"iloveyou\",\"yes\",\"no\"]  # Adjust according to your data\n",
    "plt.xticks(np.arange(len(class_labels)) + 0.5, class_labels, rotation=90)\n",
    "plt.yticks(np.arange(len(class_labels)) + 0.5, class_labels, rotation=0)\n",
    "\n",
    "plt.show()"
   ]
  },
  {
   "cell_type": "code",
   "execution_count": null,
   "metadata": {},
   "outputs": [],
   "source": [
    "#compare"
   ]
  },
  {
   "cell_type": "code",
   "execution_count": null,
   "metadata": {},
   "outputs": [],
   "source": [
    "colors = [(245, 117, 16), (117, 245, 16), (16, 117, 245), (245, 16, 117), (117, 16, 245), (50, 50, 50),(16, 117, 245), (245, 16, 117), (117, 16, 245), (50, 50, 50)]\n",
    "\n",
    "def prob_viz(res, actions, input_frame, colors):\n",
    "    output_frame = input_frame.copy()\n",
    "    for num, prob in enumerate(res):\n",
    "        cv2.rectangle(output_frame, (0,60+num*40), (int(prob*100), 90+num*40), colors[num], -1)\n",
    "        cv2.putText(output_frame, actions[num], (0, 85+num*40), cv2.FONT_HERSHEY_SIMPLEX, 1, (255,255,255), 2, cv2.LINE_AA)\n",
    "        \n",
    "    return output_frame"
   ]
  },
  {
   "cell_type": "code",
   "execution_count": null,
   "metadata": {},
   "outputs": [],
   "source": [
    "plt.figure(figsize=(18,18))\n",
    "plt.imshow(prob_viz(res, actions, image, colors))"
   ]
  },
  {
   "cell_type": "code",
   "execution_count": null,
   "metadata": {},
   "outputs": [],
   "source": [
    "sequence = []\n",
    "sentence = []\n",
    "predictions = []\n",
    "threshold = 0.5\n",
    "\n",
    "cap = cv2.VideoCapture(0)\n",
    "# Set mediapipe model \n",
    "with mp_holistic.Holistic(min_detection_confidence=0.5, min_tracking_confidence=0.5) as holistic:\n",
    "    while cap.isOpened():\n",
    "\n",
    "        # Read feed\n",
    "        ret, frame = cap.read()\n",
    "\n",
    "        # Make detections\n",
    "        image, results = mediapipe_detection(frame, holistic)\n",
    "        print(results)\n",
    "        \n",
    "        # Draw landmarks\n",
    "        draw_styled_landmarks(image, results)\n",
    "        \n",
    "        # 2. Prediction logic\n",
    "        keypoints = extract_keypoints(results)\n",
    "        sequence.append(keypoints)\n",
    "        sequence = sequence[-30:]\n",
    "        \n",
    "        if len(sequence) == 30:\n",
    "            res = model.predict(np.expand_dims(sequence, axis=0))[0]\n",
    "            print(actions[np.argmax(res)])\n",
    "            predictions.append(np.argmax(res))\n",
    "            \n",
    "            \n",
    "        #3. Viz logic\n",
    "            if np.unique(predictions[-10:])[0]==np.argmax(res): \n",
    "                if res[np.argmax(res)] > threshold: \n",
    "                    \n",
    "                    if len(sentence) > 0: \n",
    "                        if actions[np.argmax(res)] != sentence[-1]:\n",
    "                            sentence.append(actions[np.argmax(res)])\n",
    "                    else:\n",
    "                        sentence.append(actions[np.argmax(res)])\n",
    "\n",
    "            if len(sentence) > 5: \n",
    "                sentence = sentence[-5:]\n",
    "\n",
    "            # Viz probabilities\n",
    "            image = prob_viz(res, actions, image, colors)\n",
    "            \n",
    "        cv2.rectangle(image, (0,0), (640, 40), (245, 117, 16), -1)\n",
    "        cv2.putText(image, ' '.join(sentence), (3,30), \n",
    "                       cv2.FONT_HERSHEY_SIMPLEX, 1, (255, 255, 255), 2, cv2.LINE_AA)\n",
    "        \n",
    "        # Show to screen\n",
    "        cv2.imshow('OpenCV Feed', image)\n",
    "\n",
    "        # Break gracefully\n",
    "        if cv2.waitKey(10) & 0xFF == ord('q'):\n",
    "            break\n",
    "    cap.release()\n",
    "    cv2.destroyAllWindows()"
   ]
  },
  {
   "cell_type": "code",
   "execution_count": null,
   "metadata": {},
   "outputs": [],
   "source": [
    "sequence = []\n",
    "sentence = []\n",
    "predictions = []\n",
    "threshold = 0.5"
   ]
  },
  {
   "cell_type": "code",
   "execution_count": null,
   "metadata": {},
   "outputs": [],
   "source": [
    "cap = cv2.VideoCapture(0)\n",
    "# Set mediapipe model \n",
    "with mp_holistic.Holistic(min_detection_confidence=0.5, min_tracking_confidence=0.5) as holistic:\n",
    "    while cap.isOpened():\n",
    "        # Read feed\n",
    "        ret, frame = cap.read()\n",
    "        if not ret:\n",
    "            break\n",
    "\n",
    "        # Make detections\n",
    "        image, results = mediapipe_detection(frame, holistic)\n",
    "        \n",
    "        # Draw landmarks\n",
    "        draw_styled_landmarks(image, results)\n",
    "        \n",
    "        # 2. Prediction logic\n",
    "        keypoints = extract_keypoints(results)\n",
    "        sequence.append(keypoints)\n",
    "        sequence = sequence[-30:]\n",
    "        \n",
    "        if len(sequence) == 30:\n",
    "            res = model.predict(np.expand_dims(sequence, axis=0))[0]\n",
    "            predictions.append(np.argmax(res))\n",
    "            current_action = actions[np.argmax(res)] if res[np.argmax(res)] > threshold else \"\"\n",
    "\n",
    "        # 3. Viz logic\n",
    "        if len(predictions) > 10 and np.unique(predictions[-10:])[0] == np.argmax(res): \n",
    "            if res[np.argmax(res)] > threshold: \n",
    "                if len(sentence) > 0: \n",
    "                    if actions[np.argmax(res)] != sentence[-1]:\n",
    "                        sentence.append(actions[np.argmax(res)])\n",
    "                else:\n",
    "                    sentence.append(actions[np.argmax(res)])\n",
    "\n",
    "        if len(sentence) > 5: \n",
    "            sentence = sentence[-5:]\n",
    "\n",
    "        # Viz probabilities\n",
    "        if len(sequence) == 30:\n",
    "            image = prob_viz(res, actions, image, colors)\n",
    "\n",
    "        # Create a white image for text display\n",
    "        text_image = np.ones((frame.shape[0], 400, 3), dtype=np.uint8) * 255\n",
    "        cv2.putText(text_image, current_action, (10, frame.shape[0] // 2), cv2.FONT_HERSHEY_SIMPLEX, 1.5, (0, 0, 0), 3, cv2.LINE_AA)\n",
    "\n",
    "        # Concatenate the image and text image\n",
    "        combined_image = np.hstack((image, text_image))\n",
    "        \n",
    "        # Show to screen\n",
    "        cv2.imshow('OpenCV Feed', combined_image)\n",
    "\n",
    "        # Break gracefully\n",
    "        if cv2.waitKey(10) & 0xFF == ord('q'):\n",
    "            break\n",
    "\n",
    "    cap.release()\n",
    "    cv2.destroyAllWindows()"
   ]
  },
  {
   "cell_type": "code",
   "execution_count": null,
   "metadata": {},
   "outputs": [],
   "source": [
    "cap.release()\n",
    "cv2.destroyAllWindows()"
   ]
  },
  {
   "cell_type": "markdown",
   "metadata": {},
   "source": [
    "-------------------------------"
   ]
  },
  {
   "cell_type": "code",
   "execution_count": null,
   "metadata": {},
   "outputs": [],
   "source": [
    "from tensorflow.keras.models import load_model"
   ]
  },
  {
   "cell_type": "code",
   "execution_count": null,
   "metadata": {},
   "outputs": [],
   "source": [
    "model_high_accuracy = load_model('action.h5')\n",
    "model_low_accuracy = load_model('test2.h5')"
   ]
  },
  {
   "cell_type": "code",
   "execution_count": null,
   "metadata": {},
   "outputs": [],
   "source": [
    "print(\"ACTION\",model_high_accuracy.summary())\n"
   ]
  },
  {
   "cell_type": "code",
   "execution_count": null,
   "metadata": {},
   "outputs": [],
   "source": [
    "print(\"test\",model_low_accuracy.summary())"
   ]
  },
  {
   "cell_type": "code",
   "execution_count": null,
   "metadata": {},
   "outputs": [],
   "source": [
    "# Assuming models were compiled before saving\n",
    "optimizer_high = model_high_accuracy.optimizer.get_config()\n",
    "optimizer_low = model_low_accuracy.optimizer.get_config()\n",
    "\n",
    "print(\"High Accuracy Model Optimizer:\", optimizer_high)\n",
    "print(\"Low Accuracy Model Optimizer:\", optimizer_low)"
   ]
  },
  {
   "cell_type": "code",
   "execution_count": null,
   "metadata": {},
   "outputs": [],
   "source": [
    "import numpy as np\n",
    "\n",
    "# Load your test dataset\n",
    "\n",
    "# Evaluate the models\n",
    "score_high = model_high_accuracy.evaluate(X_test, y_test, verbose=0)\n",
    "score_low = model_low_accuracy.evaluate(X_test, y_test, verbose=0)\n",
    "\n",
    "print(\"High Accuracy Model Test Loss:\", score_high[0])\n",
    "print(\"High Accuracy Model Test Accuracy:\", score_high[1])\n",
    "\n",
    "print(\"Low Accuracy Model Test Loss:\", score_low[0])\n",
    "print(\"Low Accuracy Model Test Accuracy:\", score_low[1])"
   ]
  },
  {
   "cell_type": "code",
   "execution_count": null,
   "metadata": {},
   "outputs": [],
   "source": [
    "from sklearn.metrics import confusion_matrix, ConfusionMatrixDisplay\n",
    "\n",
    "# Predict the outputs\n",
    "y_pred_high = np.argmax(model_high_accuracy.predict(X_test), axis=-1)\n",
    "y_pred_low = np.argmax(model_low_accuracy.predict(X_test), axis=-1)\n",
    "y_true = np.argmax(y_test, axis=-1)\n",
    "\n",
    "# Confusion Matrix for High Accuracy Model\n",
    "cm_high = confusion_matrix(y_true, y_pred_high)\n",
    "ConfusionMatrixDisplay(cm_high).plot()\n",
    "plt.title('High Accuracy Model')\n",
    "plt.show()\n",
    "\n",
    "# Confusion Matrix for Low Accuracy Model\n",
    "cm_low = confusion_matrix(y_true, y_pred_low)\n",
    "ConfusionMatrixDisplay(cm_low).plot()\n",
    "plt.title('Low Accuracy Model')\n",
    "plt.show()"
   ]
  },
  {
   "cell_type": "code",
   "execution_count": null,
   "metadata": {},
   "outputs": [],
   "source": [
    "import matplotlib.pyplot as plt\n",
    "\n",
    "# Assuming the layers have the same names and order\n",
    "for layer_high, layer_low in zip(model_high_accuracy.layers, model_low_accuracy.layers):\n",
    "    if len(layer_high.get_weights()) > 0:  # If the layer has weights\n",
    "        weights_high = layer_high.get_weights()[0]\n",
    "        weights_low = layer_low.get_weights()[0]\n",
    "\n",
    "        plt.hist(weights_high.flatten(), bins=50, alpha=0.5, label='High Accuracy')\n",
    "        plt.hist(weights_low.flatten(), bins=50, alpha=0.5, label='Low Accuracy')\n",
    "        plt.title(f'Weight Distribution in Layer {layer_high.name}')\n",
    "        plt.legend()\n",
    "        plt.show()"
   ]
  }
 ],
 "metadata": {
  "kernelspec": {
   "display_name": "base",
   "language": "python",
   "name": "python3"
  },
  "language_info": {
   "codemirror_mode": {
    "name": "ipython",
    "version": 3
   },
   "file_extension": ".py",
   "mimetype": "text/x-python",
   "name": "python",
   "nbconvert_exporter": "python",
   "pygments_lexer": "ipython3",
   "version": "3.11.5"
  }
 },
 "nbformat": 4,
 "nbformat_minor": 2
}
